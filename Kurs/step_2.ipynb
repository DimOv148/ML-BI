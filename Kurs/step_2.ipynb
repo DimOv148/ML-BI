{
  "nbformat": 4,
  "nbformat_minor": 0,
  "metadata": {
    "colab": {
      "name": "step_2.ipynb",
      "provenance": [],
      "collapsed_sections": []
    },
    "kernelspec": {
      "name": "python3",
      "display_name": "Python 3"
    },
    "language_info": {
      "name": "python"
    }
  },
  "cells": [
    {
      "cell_type": "markdown",
      "metadata": {
        "id": "4eH0yckQAUw6"
      },
      "source": [
        "Проверка нашей модели, загружаемой из Google диска"
      ]
    },
    {
      "cell_type": "markdown",
      "metadata": {
        "id": "KOEVVOrBAAB2"
      },
      "source": [
        "Подключим Google Диск"
      ]
    },
    {
      "cell_type": "code",
      "metadata": {
        "colab": {
          "base_uri": "https://localhost:8080/"
        },
        "id": "-w23NpfyXt-L",
        "outputId": "584fa1e3-b979-445e-a69d-f1d1f95fd1e6"
      },
      "source": [
        "from google.colab import drive\n",
        "drive.mount('/gdrive')"
      ],
      "execution_count": 12,
      "outputs": [
        {
          "output_type": "stream",
          "name": "stdout",
          "text": [
            "Drive already mounted at /gdrive; to attempt to forcibly remount, call drive.mount(\"/gdrive\", force_remount=True).\n"
          ]
        }
      ]
    },
    {
      "cell_type": "markdown",
      "metadata": {
        "id": "Jb2NBjt6AcO5"
      },
      "source": [
        "Пропишем пути"
      ]
    },
    {
      "cell_type": "code",
      "metadata": {
        "id": "2gL5xWuAXtuu"
      },
      "source": [
        "path = '/gdrive/MyDrive/MLBI/kurs/'"
      ],
      "execution_count": 13,
      "outputs": []
    },
    {
      "cell_type": "code",
      "metadata": {
        "id": "BS6w-uWvW-dg"
      },
      "source": [
        "import pandas as pd\n",
        "from sklearn.metrics import roc_auc_score, roc_curve, precision_recall_curve\n",
        "import dill\n",
        "dill._dill._reverse_typemap['ClassType'] = type "
      ],
      "execution_count": 14,
      "outputs": []
    },
    {
      "cell_type": "markdown",
      "metadata": {
        "id": "2YneFyl3AgHX"
      },
      "source": [
        "Загрузим данные"
      ]
    },
    {
      "cell_type": "code",
      "metadata": {
        "id": "0p2Vb4K1XlOI"
      },
      "source": [
        "X_test = pd.read_csv(path+\"X_test.csv\")\n",
        "y_test = pd.read_csv(path+\"y_test.csv\")"
      ],
      "execution_count": 15,
      "outputs": []
    },
    {
      "cell_type": "code",
      "metadata": {
        "colab": {
          "base_uri": "https://localhost:8080/",
          "height": 142
        },
        "id": "M2IGteAyYEye",
        "outputId": "1cc3c62d-a75d-470c-c339-76cc13b861b8"
      },
      "source": [
        "X_test.head(3)"
      ],
      "execution_count": 16,
      "outputs": [
        {
          "output_type": "execute_result",
          "data": {
            "text/html": [
              "<div>\n",
              "<style scoped>\n",
              "    .dataframe tbody tr th:only-of-type {\n",
              "        vertical-align: middle;\n",
              "    }\n",
              "\n",
              "    .dataframe tbody tr th {\n",
              "        vertical-align: top;\n",
              "    }\n",
              "\n",
              "    .dataframe thead th {\n",
              "        text-align: right;\n",
              "    }\n",
              "</style>\n",
              "<table border=\"1\" class=\"dataframe\">\n",
              "  <thead>\n",
              "    <tr style=\"text-align: right;\">\n",
              "      <th></th>\n",
              "      <th>Age</th>\n",
              "      <th>Sex</th>\n",
              "      <th>ChestPainType</th>\n",
              "      <th>RestingBP</th>\n",
              "      <th>Cholesterol</th>\n",
              "      <th>FastingBS</th>\n",
              "      <th>RestingECG</th>\n",
              "      <th>MaxHR</th>\n",
              "      <th>ExerciseAngina</th>\n",
              "      <th>Oldpeak</th>\n",
              "      <th>ST_Slope</th>\n",
              "    </tr>\n",
              "  </thead>\n",
              "  <tbody>\n",
              "    <tr>\n",
              "      <th>0</th>\n",
              "      <td>63</td>\n",
              "      <td>F</td>\n",
              "      <td>ATA</td>\n",
              "      <td>140</td>\n",
              "      <td>195</td>\n",
              "      <td>0</td>\n",
              "      <td>Normal</td>\n",
              "      <td>179</td>\n",
              "      <td>N</td>\n",
              "      <td>0.0</td>\n",
              "      <td>Up</td>\n",
              "    </tr>\n",
              "    <tr>\n",
              "      <th>1</th>\n",
              "      <td>53</td>\n",
              "      <td>M</td>\n",
              "      <td>NAP</td>\n",
              "      <td>145</td>\n",
              "      <td>518</td>\n",
              "      <td>0</td>\n",
              "      <td>Normal</td>\n",
              "      <td>130</td>\n",
              "      <td>N</td>\n",
              "      <td>0.0</td>\n",
              "      <td>Flat</td>\n",
              "    </tr>\n",
              "    <tr>\n",
              "      <th>2</th>\n",
              "      <td>65</td>\n",
              "      <td>M</td>\n",
              "      <td>ASY</td>\n",
              "      <td>160</td>\n",
              "      <td>0</td>\n",
              "      <td>1</td>\n",
              "      <td>ST</td>\n",
              "      <td>122</td>\n",
              "      <td>N</td>\n",
              "      <td>1.2</td>\n",
              "      <td>Flat</td>\n",
              "    </tr>\n",
              "  </tbody>\n",
              "</table>\n",
              "</div>"
            ],
            "text/plain": [
              "   Age Sex ChestPainType  RestingBP  ...  MaxHR  ExerciseAngina Oldpeak  ST_Slope\n",
              "0   63   F           ATA        140  ...    179               N     0.0        Up\n",
              "1   53   M           NAP        145  ...    130               N     0.0      Flat\n",
              "2   65   M           ASY        160  ...    122               N     1.2      Flat\n",
              "\n",
              "[3 rows x 11 columns]"
            ]
          },
          "metadata": {},
          "execution_count": 16
        }
      ]
    },
    {
      "cell_type": "markdown",
      "metadata": {
        "id": "nTeNRfySAjvh"
      },
      "source": [
        "Загрузим нашу модель"
      ]
    },
    {
      "cell_type": "code",
      "metadata": {
        "id": "mEppxS-PYHGg"
      },
      "source": [
        "with open(path+'rf_pipeline.dill', 'rb') as in_strm:\n",
        "    pipeline = dill.load(in_strm)"
      ],
      "execution_count": 17,
      "outputs": []
    },
    {
      "cell_type": "markdown",
      "metadata": {
        "id": "udeyl23iAnEG"
      },
      "source": [
        "Проведем предсказание"
      ]
    },
    {
      "cell_type": "code",
      "metadata": {
        "id": "r3ILGr5xYYMH"
      },
      "source": [
        "predictions = pipeline.predict_proba(X_test)\n",
        "pd.DataFrame({'preds': predictions[:, 1]}).to_csv(path+\"test_predictions.csv\", index=None)"
      ],
      "execution_count": 18,
      "outputs": []
    },
    {
      "cell_type": "code",
      "metadata": {
        "colab": {
          "base_uri": "https://localhost:8080/"
        },
        "id": "jhtunsi7qENm",
        "outputId": "b6a1fa4c-792c-4af5-90be-e34a202c278d"
      },
      "source": [
        "pipeline"
      ],
      "execution_count": 19,
      "outputs": [
        {
          "output_type": "execute_result",
          "data": {
            "text/plain": [
              "Pipeline(steps=[('features',\n",
              "                 FeatureUnion(transformer_list=[('ChestPainType',\n",
              "                                                 Pipeline(steps=[('selector',\n",
              "                                                                  FeatureSelector(column='ChestPainType')),\n",
              "                                                                 ('ohe',\n",
              "                                                                  OHEEncoder(key='ChestPainType'))])),\n",
              "                                                ('RestingECG',\n",
              "                                                 Pipeline(steps=[('selector',\n",
              "                                                                  FeatureSelector(column='RestingECG')),\n",
              "                                                                 ('ohe',\n",
              "                                                                  OHEEncoder(key='RestingECG'))])),\n",
              "                                                ('ST_Slope',\n",
              "                                                 Pipeline(steps=[('selector',\n",
              "                                                                  FeatureSelector(column='ST_Slope')),\n",
              "                                                                 ('ohe',\n",
              "                                                                  OHEEncoder(key='ST_Slope'))]))])),\n",
              "                ('classifier', RandomForestClassifier(random_state=0))])"
            ]
          },
          "metadata": {},
          "execution_count": 19
        }
      ]
    },
    {
      "cell_type": "markdown",
      "metadata": {
        "id": "-l3aZrAVAr2q"
      },
      "source": [
        "Оценим нашу модель"
      ]
    },
    {
      "cell_type": "code",
      "metadata": {
        "colab": {
          "base_uri": "https://localhost:8080/"
        },
        "id": "z0a16jDUYlSn",
        "outputId": "c2e31688-ef8f-494e-c4be-03d4a7607c3b"
      },
      "source": [
        "roc_auc_score(y_score=predictions[:, 1][:], y_true=y_test.iloc[:])"
      ],
      "execution_count": null,
      "outputs": [
        {
          "output_type": "execute_result",
          "data": {
            "text/plain": [
              "0.9075880758807588"
            ]
          },
          "metadata": {},
          "execution_count": 10
        }
      ]
    }
  ]
}