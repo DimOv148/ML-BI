{
  "nbformat": 4,
  "nbformat_minor": 0,
  "metadata": {
    "colab": {
      "name": "step_3.ipynb",
      "provenance": [],
      "collapsed_sections": []
    },
    "kernelspec": {
      "name": "python3",
      "display_name": "Python 3"
    },
    "language_info": {
      "name": "python"
    }
  },
  "cells": [
    {
      "cell_type": "markdown",
      "metadata": {
        "id": "fJn0uHB_CyEt"
      },
      "source": [
        "### Сделаем предсказание и посчитаем метрику:"
      ]
    },
    {
      "cell_type": "markdown",
      "metadata": {
        "id": "ggeF6jviC8H6"
      },
      "source": [
        "Подключим Google диск"
      ]
    },
    {
      "cell_type": "code",
      "metadata": {
        "colab": {
          "base_uri": "https://localhost:8080/"
        },
        "id": "LSdbRf8hY1cw",
        "outputId": "3848ac48-2784-4954-851b-d94b4e2a875d"
      },
      "source": [
        "from google.colab import drive\n",
        "drive.mount('/gdrive')"
      ],
      "execution_count": 105,
      "outputs": [
        {
          "output_type": "stream",
          "name": "stdout",
          "text": [
            "Drive already mounted at /gdrive; to attempt to forcibly remount, call drive.mount(\"/gdrive\", force_remount=True).\n"
          ]
        }
      ]
    },
    {
      "cell_type": "code",
      "metadata": {
        "id": "AMo86-KpZzfL"
      },
      "source": [
        "path = '/gdrive/MyDrive/MLBI/kurs/'"
      ],
      "execution_count": 106,
      "outputs": []
    },
    {
      "cell_type": "code",
      "metadata": {
        "id": "XiA3x6eQ5hVU"
      },
      "source": [
        "import pandas as pd\n",
        "from sklearn.metrics import roc_auc_score,roc_curve\n",
        "from urllib import request, parse\n",
        "import requests\n",
        "import numpy as np\n",
        "\n",
        "# import urllib.request\n",
        "import json "
      ],
      "execution_count": 107,
      "outputs": []
    },
    {
      "cell_type": "markdown",
      "metadata": {
        "id": "f6IPzqZVDBU4"
      },
      "source": [
        "Функция для формирования зароса"
      ]
    },
    {
      "cell_type": "code",
      "metadata": {
        "id": "NLK2a64q5u4B"
      },
      "source": [
        "def send_json(x):\n",
        "    Age, Sex, ChestPainType, RestingBP, Cholesterol, FastingBS, RestingECG, MaxHR, ExerciseAngina, Oldpeak, ST_Slope = x\n",
        "    # print(x)\n",
        "    body = {\"Age\": int(Age),\n",
        "            \"Sex\": Sex,\n",
        "            \"ChestPainType\": ChestPainType,\n",
        "            \"RestingBP\": int(RestingBP),\n",
        "            \"Cholesterol\": int(Cholesterol),\n",
        "            \"FastingBS\": int(FastingBS),\n",
        "            \"RestingECG\": RestingECG,\n",
        "            \"MaxHR\": int(MaxHR),\n",
        "            \"ExerciseAngina\": ExerciseAngina,\n",
        "            \"Oldpeak\": Oldpeak,\n",
        "            \"ST_Slope\": ST_Slope}\n",
        "    # print(body)\n",
        "    myurl = 'http://67df-34-75-54-35.ngrok.io/'+'predict'\n",
        "    headers = {'content-type': 'application/json; charset=utf-8'}\n",
        "    response = requests.post(myurl, json=body, headers=headers)\n",
        "    return response.json()['predictions']\n"
      ],
      "execution_count": 126,
      "outputs": []
    },
    {
      "cell_type": "markdown",
      "metadata": {
        "id": "xMmuQu6WDP6D"
      },
      "source": [
        "Загрузим данные"
      ]
    },
    {
      "cell_type": "code",
      "metadata": {
        "id": "gEDR-RKp5ws_"
      },
      "source": [
        "X_test = pd.read_csv(path+\"X_test.csv\")\n",
        "y_test = pd.read_csv(path+\"y_test.csv\")"
      ],
      "execution_count": 127,
      "outputs": []
    },
    {
      "cell_type": "markdown",
      "metadata": {
        "id": "ZStPyoYyDXea"
      },
      "source": [
        "Сделаем запрос для 23 пациента"
      ]
    },
    {
      "cell_type": "code",
      "metadata": {
        "id": "TXWYDWN174Gz"
      },
      "source": [
        "response = send_json(X_test[[\"Age\", \"Sex\", \"ChestPainType\", \"RestingBP\", \"Cholesterol\", \"FastingBS\", \"RestingECG\", \"MaxHR\", \"ExerciseAngina\", \"Oldpeak\", \"ST_Slope\"]].iloc[23,:])"
      ],
      "execution_count": 128,
      "outputs": []
    },
    {
      "cell_type": "markdown",
      "metadata": {
        "id": "NWRCCzc9DdUr"
      },
      "source": [
        "И получим ответ нашей модели"
      ]
    },
    {
      "cell_type": "code",
      "metadata": {
        "colab": {
          "base_uri": "https://localhost:8080/"
        },
        "id": "RJC7N5rrLCII",
        "outputId": "1a08b045-c0c9-4389-c9b2-aa1af8d66978"
      },
      "source": [
        "response"
      ],
      "execution_count": 129,
      "outputs": [
        {
          "output_type": "execute_result",
          "data": {
            "text/plain": [
              "0.4202040798468818"
            ]
          },
          "metadata": {},
          "execution_count": 129
        }
      ]
    },
    {
      "cell_type": "markdown",
      "metadata": {
        "id": "vWaD5FcsDh8R"
      },
      "source": [
        "Сделаем то же самое, но для певых 30 пациентов"
      ]
    },
    {
      "cell_type": "code",
      "metadata": {
        "id": "9GUBBavU9dYn"
      },
      "source": [
        "N = 30"
      ],
      "execution_count": 131,
      "outputs": []
    },
    {
      "cell_type": "code",
      "metadata": {
        "colab": {
          "base_uri": "https://localhost:8080/"
        },
        "id": "bU6JUmH29zUH",
        "outputId": "ed80b6e7-59f4-4c52-cce3-a5e39da1faa2"
      },
      "source": [
        "%%time\n",
        "predictions = X_test[['Age', 'Sex', 'ChestPainType', 'RestingBP', 'Cholesterol', 'FastingBS', 'RestingECG', 'MaxHR', 'ExerciseAngina', 'Oldpeak', 'ST_Slope']].iloc[:N,:].apply(lambda x: send_json(x),1)"
      ],
      "execution_count": 132,
      "outputs": [
        {
          "output_type": "stream",
          "name": "stdout",
          "text": [
            "CPU times: user 158 ms, sys: 17.4 ms, total: 176 ms\n",
            "Wall time: 13.1 s\n"
          ]
        }
      ]
    },
    {
      "cell_type": "markdown",
      "metadata": {
        "id": "EXdD80vcDp76"
      },
      "source": [
        "Выведем предсказанные значения первых пяти пациентов"
      ]
    },
    {
      "cell_type": "code",
      "metadata": {
        "colab": {
          "base_uri": "https://localhost:8080/"
        },
        "id": "JkPxg5z-9-_V",
        "outputId": "eba3b8d9-3822-4a33-990f-b5811f8012b0"
      },
      "source": [
        "predictions.values[:5]"
      ],
      "execution_count": 135,
      "outputs": [
        {
          "output_type": "execute_result",
          "data": {
            "text/plain": [
              "array([0.01421884, 0.60144289, 0.87360802, 0.86060294, 0.01421884])"
            ]
          },
          "metadata": {},
          "execution_count": 135
        }
      ]
    },
    {
      "cell_type": "markdown",
      "metadata": {
        "id": "Vxcckj72DwbB"
      },
      "source": [
        "И тестовые данные этих же самых пациентов"
      ]
    },
    {
      "cell_type": "code",
      "metadata": {
        "colab": {
          "base_uri": "https://localhost:8080/",
          "height": 204
        },
        "id": "fAjAqkL5-C7b",
        "outputId": "f44ee390-db6e-47af-b264-0a0beffc7603"
      },
      "source": [
        "y_test.head()"
      ],
      "execution_count": 136,
      "outputs": [
        {
          "output_type": "execute_result",
          "data": {
            "text/html": [
              "<div>\n",
              "<style scoped>\n",
              "    .dataframe tbody tr th:only-of-type {\n",
              "        vertical-align: middle;\n",
              "    }\n",
              "\n",
              "    .dataframe tbody tr th {\n",
              "        vertical-align: top;\n",
              "    }\n",
              "\n",
              "    .dataframe thead th {\n",
              "        text-align: right;\n",
              "    }\n",
              "</style>\n",
              "<table border=\"1\" class=\"dataframe\">\n",
              "  <thead>\n",
              "    <tr style=\"text-align: right;\">\n",
              "      <th></th>\n",
              "      <th>HeartDisease</th>\n",
              "    </tr>\n",
              "  </thead>\n",
              "  <tbody>\n",
              "    <tr>\n",
              "      <th>0</th>\n",
              "      <td>0</td>\n",
              "    </tr>\n",
              "    <tr>\n",
              "      <th>1</th>\n",
              "      <td>1</td>\n",
              "    </tr>\n",
              "    <tr>\n",
              "      <th>2</th>\n",
              "      <td>1</td>\n",
              "    </tr>\n",
              "    <tr>\n",
              "      <th>3</th>\n",
              "      <td>1</td>\n",
              "    </tr>\n",
              "    <tr>\n",
              "      <th>4</th>\n",
              "      <td>0</td>\n",
              "    </tr>\n",
              "  </tbody>\n",
              "</table>\n",
              "</div>"
            ],
            "text/plain": [
              "   HeartDisease\n",
              "0             0\n",
              "1             1\n",
              "2             1\n",
              "3             1\n",
              "4             0"
            ]
          },
          "metadata": {},
          "execution_count": 136
        }
      ]
    },
    {
      "cell_type": "markdown",
      "metadata": {
        "id": "ZTR7pyiOD1Yg"
      },
      "source": [
        "Как видим наши предсказания оказались верны"
      ]
    },
    {
      "cell_type": "markdown",
      "metadata": {
        "id": "q-HXOI6QD8zd"
      },
      "source": [
        "Хоть и полученных результатов немного посчитаем метрику:"
      ]
    },
    {
      "cell_type": "code",
      "metadata": {
        "colab": {
          "base_uri": "https://localhost:8080/"
        },
        "id": "RGiiCHNT-GRK",
        "outputId": "6198d0ec-27e1-4aeb-c657-07a89cb83354"
      },
      "source": [
        "roc_auc_score(y_score=predictions.values, y_true=y_test.values[:N])"
      ],
      "execution_count": 137,
      "outputs": [
        {
          "output_type": "execute_result",
          "data": {
            "text/plain": [
              "0.8555555555555555"
            ]
          },
          "metadata": {},
          "execution_count": 137
        }
      ]
    },
    {
      "cell_type": "code",
      "metadata": {
        "id": "3Mciv06iebRS"
      },
      "source": [
        ""
      ],
      "execution_count": null,
      "outputs": []
    }
  ]
}