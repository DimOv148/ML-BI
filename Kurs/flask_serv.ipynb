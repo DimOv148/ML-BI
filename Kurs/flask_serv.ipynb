{
 "cells": [
  {
   "cell_type": "markdown",
   "metadata": {
    "id": "nDvexHv0BIQl"
   },
   "source": [
    "### Создание веб-приложений на базе фреймворка Flask"
   ]
  },
  {
   "cell_type": "markdown",
   "metadata": {
    "id": "auEyeHnnB0Ij"
   },
   "source": [
    "Подключим Google диск"
   ]
  },
  {
   "cell_type": "code",
   "execution_count": 35,
   "metadata": {
    "colab": {
     "base_uri": "https://localhost:8080/"
    },
    "id": "Tixpvm0fykii",
    "outputId": "d93b9392-a7d0-447c-fe2d-9f86111f8eac"
   },
   "outputs": [
    {
     "name": "stdout",
     "output_type": "stream",
     "text": [
      "Drive already mounted at /gdrive; to attempt to forcibly remount, call drive.mount(\"/gdrive\", force_remount=True).\n"
     ]
    }
   ],
   "source": [
    "from google.colab import drive\n",
    "drive.mount('/gdrive')"
   ]
  },
  {
   "cell_type": "code",
   "execution_count": 36,
   "metadata": {
    "id": "sxLn0xcgzL2Y"
   },
   "outputs": [],
   "source": [
    "path = '/gdrive/MyDrive/MLBI/kurs/'"
   ]
  },
  {
   "cell_type": "markdown",
   "metadata": {
    "id": "bwdFPX2KB8ZV"
   },
   "source": [
    "Установим Flask "
   ]
  },
  {
   "cell_type": "code",
   "execution_count": 37,
   "metadata": {
    "colab": {
     "base_uri": "https://localhost:8080/"
    },
    "id": "HAk1byu7zYzI",
    "outputId": "4e263105-aba9-4771-a91c-bcc01aa13cda"
   },
   "outputs": [
    {
     "name": "stdout",
     "output_type": "stream",
     "text": [
      "Requirement already satisfied: flask-ngrok in /usr/local/lib/python3.7/dist-packages (0.0.25)\n",
      "Requirement already satisfied: Flask>=0.8 in /usr/local/lib/python3.7/dist-packages (from flask-ngrok) (1.1.4)\n",
      "Requirement already satisfied: requests in /usr/local/lib/python3.7/dist-packages (from flask-ngrok) (2.23.0)\n",
      "Requirement already satisfied: click<8.0,>=5.1 in /usr/local/lib/python3.7/dist-packages (from Flask>=0.8->flask-ngrok) (7.1.2)\n",
      "Requirement already satisfied: Jinja2<3.0,>=2.10.1 in /usr/local/lib/python3.7/dist-packages (from Flask>=0.8->flask-ngrok) (2.11.3)\n",
      "Requirement already satisfied: itsdangerous<2.0,>=0.24 in /usr/local/lib/python3.7/dist-packages (from Flask>=0.8->flask-ngrok) (1.1.0)\n",
      "Requirement already satisfied: Werkzeug<2.0,>=0.15 in /usr/local/lib/python3.7/dist-packages (from Flask>=0.8->flask-ngrok) (1.0.1)\n",
      "Requirement already satisfied: MarkupSafe>=0.23 in /usr/local/lib/python3.7/dist-packages (from Jinja2<3.0,>=2.10.1->Flask>=0.8->flask-ngrok) (2.0.1)\n",
      "Requirement already satisfied: chardet<4,>=3.0.2 in /usr/local/lib/python3.7/dist-packages (from requests->flask-ngrok) (3.0.4)\n",
      "Requirement already satisfied: urllib3!=1.25.0,!=1.25.1,<1.26,>=1.21.1 in /usr/local/lib/python3.7/dist-packages (from requests->flask-ngrok) (1.24.3)\n",
      "Requirement already satisfied: idna<3,>=2.5 in /usr/local/lib/python3.7/dist-packages (from requests->flask-ngrok) (2.10)\n",
      "Requirement already satisfied: certifi>=2017.4.17 in /usr/local/lib/python3.7/dist-packages (from requests->flask-ngrok) (2021.10.8)\n"
     ]
    }
   ],
   "source": [
    "!pip install flask-ngrok"
   ]
  },
  {
   "cell_type": "code",
   "execution_count": 38,
   "metadata": {
    "id": "Ll1cTlptzlh-"
   },
   "outputs": [],
   "source": [
    "from flask_ngrok import run_with_ngrok\n",
    "from flask import Flask, request, jsonify\n",
    "import pandas as pd \n",
    "from sklearn.metrics import roc_auc_score,roc_curve\n",
    "import dill\n",
    "dill._dill._reverse_typemap['ClassType'] = type"
   ]
  },
  {
   "cell_type": "markdown",
   "metadata": {
    "id": "_Pd5M766CDQr"
   },
   "source": [
    "Загрузим нашу модель"
   ]
  },
  {
   "cell_type": "code",
   "execution_count": 39,
   "metadata": {
    "id": "jYVrFxcnzpBy"
   },
   "outputs": [],
   "source": [
    "with open(path+'rf_pipeline.dill', 'rb') as in_strm:\n",
    "    pipeline = dill.load(in_strm)"
   ]
  },
  {
   "cell_type": "markdown",
   "metadata": {
    "id": "qTUsFY6OCHc7"
   },
   "source": [
    "Запустим сервер и не будем его выключать пока будем работать со следующей частью (step_3)"
   ]
  },
  {
   "cell_type": "code",
   "execution_count": null,
   "metadata": {
    "colab": {
     "base_uri": "https://localhost:8080/"
    },
    "id": "IhXkX6cx0E_b",
    "outputId": "a28f56d5-0755-4977-d59a-8c1fae3b9990"
   },
   "outputs": [
    {
     "name": "stdout",
     "output_type": "stream",
     "text": [
      " * Serving Flask app \"__main__\" (lazy loading)\n",
      " * Environment: production\n",
      "\u001b[31m   WARNING: This is a development server. Do not use it in a production deployment.\u001b[0m\n",
      "\u001b[2m   Use a production WSGI server instead.\u001b[0m\n",
      " * Debug mode: off\n"
     ]
    },
    {
     "name": "stderr",
     "output_type": "stream",
     "text": [
      " * Running on http://127.0.0.1:5000/ (Press CTRL+C to quit)\n"
     ]
    },
    {
     "name": "stdout",
     "output_type": "stream",
     "text": [
      " * Running on http://67df-34-75-54-35.ngrok.io\n",
      " * Traffic stats available on http://127.0.0.1:4040\n"
     ]
    },
    {
     "name": "stderr",
     "output_type": "stream",
     "text": [
      "127.0.0.1 - - [06/Dec/2021 12:45:55] \"\u001b[33mGET / HTTP/1.1\u001b[0m\" 404 -\n",
      "127.0.0.1 - - [06/Dec/2021 12:45:55] \"\u001b[33mGET /favicon.ico HTTP/1.1\u001b[0m\" 404 -\n",
      "[2021-12-06 12:46:30,820] ERROR in app: Exception on /predict [POST]\n",
      "Traceback (most recent call last):\n",
      "  File \"/usr/local/lib/python3.7/dist-packages/pandas/core/arrays/categorical.py\", line 343, in __init__\n",
      "    codes, categories = factorize(values, sort=True)\n",
      "  File \"/usr/local/lib/python3.7/dist-packages/pandas/core/algorithms.py\", line 702, in factorize\n",
      "    values, na_sentinel=na_sentinel, size_hint=size_hint, na_value=na_value\n",
      "  File \"/usr/local/lib/python3.7/dist-packages/pandas/core/algorithms.py\", line 511, in _factorize_array\n",
      "    values, na_sentinel=na_sentinel, na_value=na_value, mask=mask\n",
      "  File \"pandas/_libs/hashtable_class_helper.pxi\", line 1873, in pandas._libs.hashtable.PyObjectHashTable.factorize\n",
      "  File \"pandas/_libs/hashtable_class_helper.pxi\", line 1787, in pandas._libs.hashtable.PyObjectHashTable._unique\n",
      "TypeError: unhashable type: 'list'\n",
      "\n",
      "During handling of the above exception, another exception occurred:\n",
      "\n",
      "Traceback (most recent call last):\n",
      "  File \"/usr/local/lib/python3.7/dist-packages/flask/app.py\", line 2447, in wsgi_app\n",
      "    response = self.full_dispatch_request()\n",
      "  File \"/usr/local/lib/python3.7/dist-packages/flask/app.py\", line 1952, in full_dispatch_request\n",
      "    rv = self.handle_user_exception(e)\n",
      "  File \"/usr/local/lib/python3.7/dist-packages/flask/app.py\", line 1821, in handle_user_exception\n",
      "    reraise(exc_type, exc_value, tb)\n",
      "  File \"/usr/local/lib/python3.7/dist-packages/flask/_compat.py\", line 39, in reraise\n",
      "    raise value\n",
      "  File \"/usr/local/lib/python3.7/dist-packages/flask/app.py\", line 1950, in full_dispatch_request\n",
      "    rv = self.dispatch_request()\n",
      "  File \"/usr/local/lib/python3.7/dist-packages/flask/app.py\", line 1936, in dispatch_request\n",
      "    return self.view_functions[rule.endpoint](**req.view_args)\n",
      "  File \"<ipython-input-42-ba37385302eb>\", line 60, in predict\n",
      "    \"ST_Slope\": [ST_Slope]}))\n",
      "  File \"/usr/local/lib/python3.7/dist-packages/sklearn/utils/metaestimators.py\", line 113, in <lambda>\n",
      "    out = lambda *args, **kwargs: self.fn(obj, *args, **kwargs)  # noqa\n",
      "  File \"/usr/local/lib/python3.7/dist-packages/sklearn/pipeline.py\", line 535, in predict_proba\n",
      "    Xt = transform.transform(Xt)\n",
      "  File \"/usr/local/lib/python3.7/dist-packages/sklearn/pipeline.py\", line 1224, in transform\n",
      "    for name, trans, weight in self._iter()\n",
      "  File \"/usr/local/lib/python3.7/dist-packages/joblib/parallel.py\", line 1043, in __call__\n",
      "    if self.dispatch_one_batch(iterator):\n",
      "  File \"/usr/local/lib/python3.7/dist-packages/joblib/parallel.py\", line 861, in dispatch_one_batch\n",
      "    self._dispatch(tasks)\n",
      "  File \"/usr/local/lib/python3.7/dist-packages/joblib/parallel.py\", line 779, in _dispatch\n",
      "    job = self._backend.apply_async(batch, callback=cb)\n",
      "  File \"/usr/local/lib/python3.7/dist-packages/joblib/_parallel_backends.py\", line 208, in apply_async\n",
      "    result = ImmediateResult(func)\n",
      "  File \"/usr/local/lib/python3.7/dist-packages/joblib/_parallel_backends.py\", line 572, in __init__\n",
      "    self.results = batch()\n",
      "  File \"/usr/local/lib/python3.7/dist-packages/joblib/parallel.py\", line 263, in __call__\n",
      "    for func, args, kwargs in self.items]\n",
      "  File \"/usr/local/lib/python3.7/dist-packages/joblib/parallel.py\", line 263, in <listcomp>\n",
      "    for func, args, kwargs in self.items]\n",
      "  File \"/usr/local/lib/python3.7/dist-packages/sklearn/utils/fixes.py\", line 211, in __call__\n",
      "    return self.function(*args, **kwargs)\n",
      "  File \"/usr/local/lib/python3.7/dist-packages/sklearn/pipeline.py\", line 876, in _transform_one\n",
      "    res = transformer.transform(X)\n",
      "  File \"/usr/local/lib/python3.7/dist-packages/sklearn/utils/metaestimators.py\", line 113, in <lambda>\n",
      "    out = lambda *args, **kwargs: self.fn(obj, *args, **kwargs)  # noqa\n",
      "  File \"/usr/local/lib/python3.7/dist-packages/sklearn/pipeline.py\", line 647, in transform\n",
      "    Xt = transform.transform(Xt)\n",
      "  File \"<ipython-input-86-825d1326c832>\", line 36, in transform\n",
      "  File \"/usr/local/lib/python3.7/dist-packages/pandas/core/reshape/reshape.py\", line 908, in get_dummies\n",
      "    dtype=dtype,\n",
      "  File \"/usr/local/lib/python3.7/dist-packages/pandas/core/reshape/reshape.py\", line 925, in _get_dummies_1d\n",
      "    codes, levels = factorize_from_iterable(Series(data))\n",
      "  File \"/usr/local/lib/python3.7/dist-packages/pandas/core/arrays/categorical.py\", line 2697, in factorize_from_iterable\n",
      "    cat = Categorical(values, ordered=False)\n",
      "  File \"/usr/local/lib/python3.7/dist-packages/pandas/core/arrays/categorical.py\", line 345, in __init__\n",
      "    codes, categories = factorize(values, sort=False)\n",
      "  File \"/usr/local/lib/python3.7/dist-packages/pandas/core/algorithms.py\", line 702, in factorize\n",
      "    values, na_sentinel=na_sentinel, size_hint=size_hint, na_value=na_value\n",
      "  File \"/usr/local/lib/python3.7/dist-packages/pandas/core/algorithms.py\", line 511, in _factorize_array\n",
      "    values, na_sentinel=na_sentinel, na_value=na_value, mask=mask\n",
      "  File \"pandas/_libs/hashtable_class_helper.pxi\", line 1873, in pandas._libs.hashtable.PyObjectHashTable.factorize\n",
      "  File \"pandas/_libs/hashtable_class_helper.pxi\", line 1787, in pandas._libs.hashtable.PyObjectHashTable._unique\n",
      "TypeError: unhashable type: 'list'\n",
      "127.0.0.1 - - [06/Dec/2021 12:46:30] \"\u001b[35m\u001b[1mPOST /predict HTTP/1.1\u001b[0m\" 500 -\n"
     ]
    },
    {
     "name": "stdout",
     "output_type": "stream",
     "text": [
      "[53]\n",
      "['M']\n"
     ]
    },
    {
     "name": "stderr",
     "output_type": "stream",
     "text": [
      "[2021-12-06 12:51:55,556] ERROR in app: Exception on /predict [POST]\n",
      "Traceback (most recent call last):\n",
      "  File \"/usr/local/lib/python3.7/dist-packages/pandas/core/arrays/categorical.py\", line 343, in __init__\n",
      "    codes, categories = factorize(values, sort=True)\n",
      "  File \"/usr/local/lib/python3.7/dist-packages/pandas/core/algorithms.py\", line 702, in factorize\n",
      "    values, na_sentinel=na_sentinel, size_hint=size_hint, na_value=na_value\n",
      "  File \"/usr/local/lib/python3.7/dist-packages/pandas/core/algorithms.py\", line 511, in _factorize_array\n",
      "    values, na_sentinel=na_sentinel, na_value=na_value, mask=mask\n",
      "  File \"pandas/_libs/hashtable_class_helper.pxi\", line 1873, in pandas._libs.hashtable.PyObjectHashTable.factorize\n",
      "  File \"pandas/_libs/hashtable_class_helper.pxi\", line 1787, in pandas._libs.hashtable.PyObjectHashTable._unique\n",
      "TypeError: unhashable type: 'list'\n",
      "\n",
      "During handling of the above exception, another exception occurred:\n",
      "\n",
      "Traceback (most recent call last):\n",
      "  File \"/usr/local/lib/python3.7/dist-packages/flask/app.py\", line 2447, in wsgi_app\n",
      "    response = self.full_dispatch_request()\n",
      "  File \"/usr/local/lib/python3.7/dist-packages/flask/app.py\", line 1952, in full_dispatch_request\n",
      "    rv = self.handle_user_exception(e)\n",
      "  File \"/usr/local/lib/python3.7/dist-packages/flask/app.py\", line 1821, in handle_user_exception\n",
      "    reraise(exc_type, exc_value, tb)\n",
      "  File \"/usr/local/lib/python3.7/dist-packages/flask/_compat.py\", line 39, in reraise\n",
      "    raise value\n",
      "  File \"/usr/local/lib/python3.7/dist-packages/flask/app.py\", line 1950, in full_dispatch_request\n",
      "    rv = self.dispatch_request()\n",
      "  File \"/usr/local/lib/python3.7/dist-packages/flask/app.py\", line 1936, in dispatch_request\n",
      "    return self.view_functions[rule.endpoint](**req.view_args)\n",
      "  File \"<ipython-input-42-ba37385302eb>\", line 60, in predict\n",
      "    \"ST_Slope\": [ST_Slope]}))\n",
      "  File \"/usr/local/lib/python3.7/dist-packages/sklearn/utils/metaestimators.py\", line 113, in <lambda>\n",
      "    out = lambda *args, **kwargs: self.fn(obj, *args, **kwargs)  # noqa\n",
      "  File \"/usr/local/lib/python3.7/dist-packages/sklearn/pipeline.py\", line 535, in predict_proba\n",
      "    Xt = transform.transform(Xt)\n",
      "  File \"/usr/local/lib/python3.7/dist-packages/sklearn/pipeline.py\", line 1224, in transform\n",
      "    for name, trans, weight in self._iter()\n",
      "  File \"/usr/local/lib/python3.7/dist-packages/joblib/parallel.py\", line 1043, in __call__\n",
      "    if self.dispatch_one_batch(iterator):\n",
      "  File \"/usr/local/lib/python3.7/dist-packages/joblib/parallel.py\", line 861, in dispatch_one_batch\n",
      "    self._dispatch(tasks)\n",
      "  File \"/usr/local/lib/python3.7/dist-packages/joblib/parallel.py\", line 779, in _dispatch\n",
      "    job = self._backend.apply_async(batch, callback=cb)\n",
      "  File \"/usr/local/lib/python3.7/dist-packages/joblib/_parallel_backends.py\", line 208, in apply_async\n",
      "    result = ImmediateResult(func)\n",
      "  File \"/usr/local/lib/python3.7/dist-packages/joblib/_parallel_backends.py\", line 572, in __init__\n",
      "    self.results = batch()\n",
      "  File \"/usr/local/lib/python3.7/dist-packages/joblib/parallel.py\", line 263, in __call__\n",
      "    for func, args, kwargs in self.items]\n",
      "  File \"/usr/local/lib/python3.7/dist-packages/joblib/parallel.py\", line 263, in <listcomp>\n",
      "    for func, args, kwargs in self.items]\n",
      "  File \"/usr/local/lib/python3.7/dist-packages/sklearn/utils/fixes.py\", line 211, in __call__\n",
      "    return self.function(*args, **kwargs)\n",
      "  File \"/usr/local/lib/python3.7/dist-packages/sklearn/pipeline.py\", line 876, in _transform_one\n",
      "    res = transformer.transform(X)\n",
      "  File \"/usr/local/lib/python3.7/dist-packages/sklearn/utils/metaestimators.py\", line 113, in <lambda>\n",
      "    out = lambda *args, **kwargs: self.fn(obj, *args, **kwargs)  # noqa\n",
      "  File \"/usr/local/lib/python3.7/dist-packages/sklearn/pipeline.py\", line 647, in transform\n",
      "    Xt = transform.transform(Xt)\n",
      "  File \"<ipython-input-86-825d1326c832>\", line 36, in transform\n",
      "  File \"/usr/local/lib/python3.7/dist-packages/pandas/core/reshape/reshape.py\", line 908, in get_dummies\n",
      "    dtype=dtype,\n",
      "  File \"/usr/local/lib/python3.7/dist-packages/pandas/core/reshape/reshape.py\", line 925, in _get_dummies_1d\n",
      "    codes, levels = factorize_from_iterable(Series(data))\n",
      "  File \"/usr/local/lib/python3.7/dist-packages/pandas/core/arrays/categorical.py\", line 2697, in factorize_from_iterable\n",
      "    cat = Categorical(values, ordered=False)\n",
      "  File \"/usr/local/lib/python3.7/dist-packages/pandas/core/arrays/categorical.py\", line 345, in __init__\n",
      "    codes, categories = factorize(values, sort=False)\n",
      "  File \"/usr/local/lib/python3.7/dist-packages/pandas/core/algorithms.py\", line 702, in factorize\n",
      "    values, na_sentinel=na_sentinel, size_hint=size_hint, na_value=na_value\n",
      "  File \"/usr/local/lib/python3.7/dist-packages/pandas/core/algorithms.py\", line 511, in _factorize_array\n",
      "    values, na_sentinel=na_sentinel, na_value=na_value, mask=mask\n",
      "  File \"pandas/_libs/hashtable_class_helper.pxi\", line 1873, in pandas._libs.hashtable.PyObjectHashTable.factorize\n",
      "  File \"pandas/_libs/hashtable_class_helper.pxi\", line 1787, in pandas._libs.hashtable.PyObjectHashTable._unique\n",
      "TypeError: unhashable type: 'list'\n",
      "127.0.0.1 - - [06/Dec/2021 12:51:55] \"\u001b[35m\u001b[1mPOST /predict HTTP/1.1\u001b[0m\" 500 -\n"
     ]
    },
    {
     "name": "stdout",
     "output_type": "stream",
     "text": [
      "[53]\n",
      "['M']\n"
     ]
    },
    {
     "name": "stderr",
     "output_type": "stream",
     "text": [
      "[2021-12-06 13:07:20,290] ERROR in app: Exception on /predict [POST]\n",
      "Traceback (most recent call last):\n",
      "  File \"/usr/local/lib/python3.7/dist-packages/pandas/core/arrays/categorical.py\", line 343, in __init__\n",
      "    codes, categories = factorize(values, sort=True)\n",
      "  File \"/usr/local/lib/python3.7/dist-packages/pandas/core/algorithms.py\", line 702, in factorize\n",
      "    values, na_sentinel=na_sentinel, size_hint=size_hint, na_value=na_value\n",
      "  File \"/usr/local/lib/python3.7/dist-packages/pandas/core/algorithms.py\", line 511, in _factorize_array\n",
      "    values, na_sentinel=na_sentinel, na_value=na_value, mask=mask\n",
      "  File \"pandas/_libs/hashtable_class_helper.pxi\", line 1873, in pandas._libs.hashtable.PyObjectHashTable.factorize\n",
      "  File \"pandas/_libs/hashtable_class_helper.pxi\", line 1787, in pandas._libs.hashtable.PyObjectHashTable._unique\n",
      "TypeError: unhashable type: 'list'\n",
      "\n",
      "During handling of the above exception, another exception occurred:\n",
      "\n",
      "Traceback (most recent call last):\n",
      "  File \"/usr/local/lib/python3.7/dist-packages/flask/app.py\", line 2447, in wsgi_app\n",
      "    response = self.full_dispatch_request()\n",
      "  File \"/usr/local/lib/python3.7/dist-packages/flask/app.py\", line 1952, in full_dispatch_request\n",
      "    rv = self.handle_user_exception(e)\n",
      "  File \"/usr/local/lib/python3.7/dist-packages/flask/app.py\", line 1821, in handle_user_exception\n",
      "    reraise(exc_type, exc_value, tb)\n",
      "  File \"/usr/local/lib/python3.7/dist-packages/flask/_compat.py\", line 39, in reraise\n",
      "    raise value\n",
      "  File \"/usr/local/lib/python3.7/dist-packages/flask/app.py\", line 1950, in full_dispatch_request\n",
      "    rv = self.dispatch_request()\n",
      "  File \"/usr/local/lib/python3.7/dist-packages/flask/app.py\", line 1936, in dispatch_request\n",
      "    return self.view_functions[rule.endpoint](**req.view_args)\n",
      "  File \"<ipython-input-42-ba37385302eb>\", line 60, in predict\n",
      "    \"ST_Slope\": [ST_Slope]}))\n",
      "  File \"/usr/local/lib/python3.7/dist-packages/sklearn/utils/metaestimators.py\", line 113, in <lambda>\n",
      "    out = lambda *args, **kwargs: self.fn(obj, *args, **kwargs)  # noqa\n",
      "  File \"/usr/local/lib/python3.7/dist-packages/sklearn/pipeline.py\", line 535, in predict_proba\n",
      "    Xt = transform.transform(Xt)\n",
      "  File \"/usr/local/lib/python3.7/dist-packages/sklearn/pipeline.py\", line 1224, in transform\n",
      "    for name, trans, weight in self._iter()\n",
      "  File \"/usr/local/lib/python3.7/dist-packages/joblib/parallel.py\", line 1043, in __call__\n",
      "    if self.dispatch_one_batch(iterator):\n",
      "  File \"/usr/local/lib/python3.7/dist-packages/joblib/parallel.py\", line 861, in dispatch_one_batch\n",
      "    self._dispatch(tasks)\n",
      "  File \"/usr/local/lib/python3.7/dist-packages/joblib/parallel.py\", line 779, in _dispatch\n",
      "    job = self._backend.apply_async(batch, callback=cb)\n",
      "  File \"/usr/local/lib/python3.7/dist-packages/joblib/_parallel_backends.py\", line 208, in apply_async\n",
      "    result = ImmediateResult(func)\n",
      "  File \"/usr/local/lib/python3.7/dist-packages/joblib/_parallel_backends.py\", line 572, in __init__\n",
      "    self.results = batch()\n",
      "  File \"/usr/local/lib/python3.7/dist-packages/joblib/parallel.py\", line 263, in __call__\n",
      "    for func, args, kwargs in self.items]\n",
      "  File \"/usr/local/lib/python3.7/dist-packages/joblib/parallel.py\", line 263, in <listcomp>\n",
      "    for func, args, kwargs in self.items]\n",
      "  File \"/usr/local/lib/python3.7/dist-packages/sklearn/utils/fixes.py\", line 211, in __call__\n",
      "    return self.function(*args, **kwargs)\n",
      "  File \"/usr/local/lib/python3.7/dist-packages/sklearn/pipeline.py\", line 876, in _transform_one\n",
      "    res = transformer.transform(X)\n",
      "  File \"/usr/local/lib/python3.7/dist-packages/sklearn/utils/metaestimators.py\", line 113, in <lambda>\n",
      "    out = lambda *args, **kwargs: self.fn(obj, *args, **kwargs)  # noqa\n",
      "  File \"/usr/local/lib/python3.7/dist-packages/sklearn/pipeline.py\", line 647, in transform\n",
      "    Xt = transform.transform(Xt)\n",
      "  File \"<ipython-input-86-825d1326c832>\", line 36, in transform\n",
      "  File \"/usr/local/lib/python3.7/dist-packages/pandas/core/reshape/reshape.py\", line 908, in get_dummies\n",
      "    dtype=dtype,\n",
      "  File \"/usr/local/lib/python3.7/dist-packages/pandas/core/reshape/reshape.py\", line 925, in _get_dummies_1d\n",
      "    codes, levels = factorize_from_iterable(Series(data))\n",
      "  File \"/usr/local/lib/python3.7/dist-packages/pandas/core/arrays/categorical.py\", line 2697, in factorize_from_iterable\n",
      "    cat = Categorical(values, ordered=False)\n",
      "  File \"/usr/local/lib/python3.7/dist-packages/pandas/core/arrays/categorical.py\", line 345, in __init__\n",
      "    codes, categories = factorize(values, sort=False)\n",
      "  File \"/usr/local/lib/python3.7/dist-packages/pandas/core/algorithms.py\", line 702, in factorize\n",
      "    values, na_sentinel=na_sentinel, size_hint=size_hint, na_value=na_value\n",
      "  File \"/usr/local/lib/python3.7/dist-packages/pandas/core/algorithms.py\", line 511, in _factorize_array\n",
      "    values, na_sentinel=na_sentinel, na_value=na_value, mask=mask\n",
      "  File \"pandas/_libs/hashtable_class_helper.pxi\", line 1873, in pandas._libs.hashtable.PyObjectHashTable.factorize\n",
      "  File \"pandas/_libs/hashtable_class_helper.pxi\", line 1787, in pandas._libs.hashtable.PyObjectHashTable._unique\n",
      "TypeError: unhashable type: 'list'\n",
      "127.0.0.1 - - [06/Dec/2021 13:07:20] \"\u001b[35m\u001b[1mPOST /predict HTTP/1.1\u001b[0m\" 500 -\n"
     ]
    },
    {
     "name": "stdout",
     "output_type": "stream",
     "text": [
      "[63]\n",
      "['F']\n"
     ]
    },
    {
     "name": "stderr",
     "output_type": "stream",
     "text": [
      "127.0.0.1 - - [06/Dec/2021 13:10:37] \"\u001b[37mPOST /predict HTTP/1.1\u001b[0m\" 200 -\n"
     ]
    },
    {
     "name": "stdout",
     "output_type": "stream",
     "text": [
      "63\n",
      "F\n"
     ]
    },
    {
     "name": "stderr",
     "output_type": "stream",
     "text": [
      "127.0.0.1 - - [06/Dec/2021 13:10:59] \"\u001b[37mPOST /predict HTTP/1.1\u001b[0m\" 200 -\n"
     ]
    },
    {
     "name": "stdout",
     "output_type": "stream",
     "text": [
      "58\n",
      "M\n"
     ]
    },
    {
     "name": "stderr",
     "output_type": "stream",
     "text": [
      "127.0.0.1 - - [06/Dec/2021 13:11:35] \"\u001b[37mPOST /predict HTTP/1.1\u001b[0m\" 200 -\n"
     ]
    },
    {
     "name": "stdout",
     "output_type": "stream",
     "text": [
      "58\n",
      "M\n"
     ]
    },
    {
     "name": "stderr",
     "output_type": "stream",
     "text": [
      "127.0.0.1 - - [06/Dec/2021 13:11:46] \"\u001b[37mPOST /predict HTTP/1.1\u001b[0m\" 200 -\n"
     ]
    },
    {
     "name": "stdout",
     "output_type": "stream",
     "text": [
      "63\n",
      "F\n"
     ]
    },
    {
     "name": "stderr",
     "output_type": "stream",
     "text": [
      "127.0.0.1 - - [06/Dec/2021 13:11:46] \"\u001b[37mPOST /predict HTTP/1.1\u001b[0m\" 200 -\n"
     ]
    },
    {
     "name": "stdout",
     "output_type": "stream",
     "text": [
      "53\n",
      "M\n"
     ]
    },
    {
     "name": "stderr",
     "output_type": "stream",
     "text": [
      "127.0.0.1 - - [06/Dec/2021 13:11:47] \"\u001b[37mPOST /predict HTTP/1.1\u001b[0m\" 200 -\n"
     ]
    },
    {
     "name": "stdout",
     "output_type": "stream",
     "text": [
      "65\n",
      "M\n"
     ]
    },
    {
     "name": "stderr",
     "output_type": "stream",
     "text": [
      "127.0.0.1 - - [06/Dec/2021 13:11:47] \"\u001b[37mPOST /predict HTTP/1.1\u001b[0m\" 200 -\n"
     ]
    },
    {
     "name": "stdout",
     "output_type": "stream",
     "text": [
      "56\n",
      "M\n"
     ]
    },
    {
     "name": "stderr",
     "output_type": "stream",
     "text": [
      "127.0.0.1 - - [06/Dec/2021 13:11:48] \"\u001b[37mPOST /predict HTTP/1.1\u001b[0m\" 200 -\n"
     ]
    },
    {
     "name": "stdout",
     "output_type": "stream",
     "text": [
      "54\n",
      "M\n"
     ]
    },
    {
     "name": "stderr",
     "output_type": "stream",
     "text": [
      "127.0.0.1 - - [06/Dec/2021 13:11:53] \"\u001b[37mPOST /predict HTTP/1.1\u001b[0m\" 200 -\n"
     ]
    },
    {
     "name": "stdout",
     "output_type": "stream",
     "text": [
      "63\n",
      "F\n"
     ]
    },
    {
     "name": "stderr",
     "output_type": "stream",
     "text": [
      "127.0.0.1 - - [06/Dec/2021 13:11:54] \"\u001b[37mPOST /predict HTTP/1.1\u001b[0m\" 200 -\n"
     ]
    },
    {
     "name": "stdout",
     "output_type": "stream",
     "text": [
      "53\n",
      "M\n"
     ]
    },
    {
     "name": "stderr",
     "output_type": "stream",
     "text": [
      "127.0.0.1 - - [06/Dec/2021 13:11:54] \"\u001b[37mPOST /predict HTTP/1.1\u001b[0m\" 200 -\n"
     ]
    },
    {
     "name": "stdout",
     "output_type": "stream",
     "text": [
      "65\n",
      "M\n"
     ]
    },
    {
     "name": "stderr",
     "output_type": "stream",
     "text": [
      "127.0.0.1 - - [06/Dec/2021 13:11:54] \"\u001b[37mPOST /predict HTTP/1.1\u001b[0m\" 200 -\n"
     ]
    },
    {
     "name": "stdout",
     "output_type": "stream",
     "text": [
      "56\n",
      "M\n"
     ]
    },
    {
     "name": "stderr",
     "output_type": "stream",
     "text": [
      "127.0.0.1 - - [06/Dec/2021 13:11:55] \"\u001b[37mPOST /predict HTTP/1.1\u001b[0m\" 200 -\n"
     ]
    },
    {
     "name": "stdout",
     "output_type": "stream",
     "text": [
      "54\n",
      "M\n"
     ]
    },
    {
     "name": "stderr",
     "output_type": "stream",
     "text": [
      "127.0.0.1 - - [06/Dec/2021 13:11:55] \"\u001b[37mPOST /predict HTTP/1.1\u001b[0m\" 200 -\n"
     ]
    },
    {
     "name": "stdout",
     "output_type": "stream",
     "text": [
      "67\n",
      "M\n"
     ]
    },
    {
     "name": "stderr",
     "output_type": "stream",
     "text": [
      "127.0.0.1 - - [06/Dec/2021 13:11:56] \"\u001b[37mPOST /predict HTTP/1.1\u001b[0m\" 200 -\n"
     ]
    },
    {
     "name": "stdout",
     "output_type": "stream",
     "text": [
      "56\n",
      "M\n"
     ]
    },
    {
     "name": "stderr",
     "output_type": "stream",
     "text": [
      "127.0.0.1 - - [06/Dec/2021 13:11:56] \"\u001b[37mPOST /predict HTTP/1.1\u001b[0m\" 200 -\n"
     ]
    },
    {
     "name": "stdout",
     "output_type": "stream",
     "text": [
      "69\n",
      "M\n"
     ]
    },
    {
     "name": "stderr",
     "output_type": "stream",
     "text": [
      "127.0.0.1 - - [06/Dec/2021 13:11:57] \"\u001b[37mPOST /predict HTTP/1.1\u001b[0m\" 200 -\n"
     ]
    },
    {
     "name": "stdout",
     "output_type": "stream",
     "text": [
      "46\n",
      "M\n"
     ]
    },
    {
     "name": "stderr",
     "output_type": "stream",
     "text": [
      "127.0.0.1 - - [06/Dec/2021 13:11:57] \"\u001b[37mPOST /predict HTTP/1.1\u001b[0m\" 200 -\n"
     ]
    },
    {
     "name": "stdout",
     "output_type": "stream",
     "text": [
      "58\n",
      "M\n"
     ]
    },
    {
     "name": "stderr",
     "output_type": "stream",
     "text": [
      "127.0.0.1 - - [06/Dec/2021 13:11:57] \"\u001b[37mPOST /predict HTTP/1.1\u001b[0m\" 200 -\n"
     ]
    },
    {
     "name": "stdout",
     "output_type": "stream",
     "text": [
      "56\n",
      "M\n"
     ]
    },
    {
     "name": "stderr",
     "output_type": "stream",
     "text": [
      "127.0.0.1 - - [06/Dec/2021 13:11:58] \"\u001b[37mPOST /predict HTTP/1.1\u001b[0m\" 200 -\n"
     ]
    },
    {
     "name": "stdout",
     "output_type": "stream",
     "text": [
      "62\n",
      "M\n"
     ]
    },
    {
     "name": "stderr",
     "output_type": "stream",
     "text": [
      "127.0.0.1 - - [06/Dec/2021 13:11:58] \"\u001b[37mPOST /predict HTTP/1.1\u001b[0m\" 200 -\n"
     ]
    },
    {
     "name": "stdout",
     "output_type": "stream",
     "text": [
      "64\n",
      "F\n"
     ]
    },
    {
     "name": "stderr",
     "output_type": "stream",
     "text": [
      "127.0.0.1 - - [06/Dec/2021 13:11:59] \"\u001b[37mPOST /predict HTTP/1.1\u001b[0m\" 200 -\n"
     ]
    },
    {
     "name": "stdout",
     "output_type": "stream",
     "text": [
      "56\n",
      "M\n"
     ]
    },
    {
     "name": "stderr",
     "output_type": "stream",
     "text": [
      "127.0.0.1 - - [06/Dec/2021 13:11:59] \"\u001b[37mPOST /predict HTTP/1.1\u001b[0m\" 200 -\n"
     ]
    },
    {
     "name": "stdout",
     "output_type": "stream",
     "text": [
      "57\n",
      "M\n"
     ]
    },
    {
     "name": "stderr",
     "output_type": "stream",
     "text": [
      "127.0.0.1 - - [06/Dec/2021 13:12:00] \"\u001b[37mPOST /predict HTTP/1.1\u001b[0m\" 200 -\n"
     ]
    },
    {
     "name": "stdout",
     "output_type": "stream",
     "text": [
      "41\n",
      "M\n"
     ]
    },
    {
     "name": "stderr",
     "output_type": "stream",
     "text": [
      "127.0.0.1 - - [06/Dec/2021 13:12:00] \"\u001b[37mPOST /predict HTTP/1.1\u001b[0m\" 200 -\n"
     ]
    },
    {
     "name": "stdout",
     "output_type": "stream",
     "text": [
      "64\n",
      "F\n"
     ]
    },
    {
     "name": "stderr",
     "output_type": "stream",
     "text": [
      "127.0.0.1 - - [06/Dec/2021 13:12:01] \"\u001b[37mPOST /predict HTTP/1.1\u001b[0m\" 200 -\n"
     ]
    },
    {
     "name": "stdout",
     "output_type": "stream",
     "text": [
      "57\n",
      "M\n"
     ]
    },
    {
     "name": "stderr",
     "output_type": "stream",
     "text": [
      "127.0.0.1 - - [06/Dec/2021 13:12:01] \"\u001b[37mPOST /predict HTTP/1.1\u001b[0m\" 200 -\n"
     ]
    },
    {
     "name": "stdout",
     "output_type": "stream",
     "text": [
      "39\n",
      "M\n"
     ]
    },
    {
     "name": "stderr",
     "output_type": "stream",
     "text": [
      "127.0.0.1 - - [06/Dec/2021 13:12:01] \"\u001b[37mPOST /predict HTTP/1.1\u001b[0m\" 200 -\n"
     ]
    },
    {
     "name": "stdout",
     "output_type": "stream",
     "text": [
      "67\n",
      "F\n"
     ]
    },
    {
     "name": "stderr",
     "output_type": "stream",
     "text": [
      "127.0.0.1 - - [06/Dec/2021 13:12:02] \"\u001b[37mPOST /predict HTTP/1.1\u001b[0m\" 200 -\n"
     ]
    },
    {
     "name": "stdout",
     "output_type": "stream",
     "text": [
      "67\n",
      "M\n"
     ]
    },
    {
     "name": "stderr",
     "output_type": "stream",
     "text": [
      "127.0.0.1 - - [06/Dec/2021 13:12:02] \"\u001b[37mPOST /predict HTTP/1.1\u001b[0m\" 200 -\n"
     ]
    },
    {
     "name": "stdout",
     "output_type": "stream",
     "text": [
      "48\n",
      "F\n"
     ]
    },
    {
     "name": "stderr",
     "output_type": "stream",
     "text": [
      "127.0.0.1 - - [06/Dec/2021 13:12:03] \"\u001b[37mPOST /predict HTTP/1.1\u001b[0m\" 200 -\n"
     ]
    },
    {
     "name": "stdout",
     "output_type": "stream",
     "text": [
      "40\n",
      "M\n"
     ]
    },
    {
     "name": "stderr",
     "output_type": "stream",
     "text": [
      "127.0.0.1 - - [06/Dec/2021 13:12:03] \"\u001b[37mPOST /predict HTTP/1.1\u001b[0m\" 200 -\n"
     ]
    },
    {
     "name": "stdout",
     "output_type": "stream",
     "text": [
      "58\n",
      "M\n"
     ]
    },
    {
     "name": "stderr",
     "output_type": "stream",
     "text": [
      "127.0.0.1 - - [06/Dec/2021 13:12:04] \"\u001b[37mPOST /predict HTTP/1.1\u001b[0m\" 200 -\n"
     ]
    },
    {
     "name": "stdout",
     "output_type": "stream",
     "text": [
      "74\n",
      "M\n"
     ]
    },
    {
     "name": "stderr",
     "output_type": "stream",
     "text": [
      "127.0.0.1 - - [06/Dec/2021 13:12:04] \"\u001b[37mPOST /predict HTTP/1.1\u001b[0m\" 200 -\n"
     ]
    },
    {
     "name": "stdout",
     "output_type": "stream",
     "text": [
      "46\n",
      "M\n"
     ]
    },
    {
     "name": "stderr",
     "output_type": "stream",
     "text": [
      "127.0.0.1 - - [06/Dec/2021 13:12:04] \"\u001b[37mPOST /predict HTTP/1.1\u001b[0m\" 200 -\n"
     ]
    },
    {
     "name": "stdout",
     "output_type": "stream",
     "text": [
      "48\n",
      "M\n"
     ]
    },
    {
     "name": "stderr",
     "output_type": "stream",
     "text": [
      "127.0.0.1 - - [06/Dec/2021 13:12:05] \"\u001b[37mPOST /predict HTTP/1.1\u001b[0m\" 200 -\n"
     ]
    },
    {
     "name": "stdout",
     "output_type": "stream",
     "text": [
      "69\n",
      "M\n"
     ]
    },
    {
     "name": "stderr",
     "output_type": "stream",
     "text": [
      "127.0.0.1 - - [06/Dec/2021 13:12:05] \"\u001b[37mPOST /predict HTTP/1.1\u001b[0m\" 200 -\n"
     ]
    },
    {
     "name": "stdout",
     "output_type": "stream",
     "text": [
      "44\n",
      "M\n"
     ]
    },
    {
     "name": "stderr",
     "output_type": "stream",
     "text": [
      "127.0.0.1 - - [06/Dec/2021 13:12:06] \"\u001b[37mPOST /predict HTTP/1.1\u001b[0m\" 200 -\n"
     ]
    },
    {
     "name": "stdout",
     "output_type": "stream",
     "text": [
      "32\n",
      "M\n"
     ]
    }
   ],
   "source": [
    "# Обработчики и запуск Flask\n",
    "app = Flask(__name__)\n",
    "run_with_ngrok(app)  # Start ngrok when app is run\n",
    "\n",
    "@app.route('/predict', methods=['GET', 'POST'])\n",
    "def predict():\n",
    "  data = {\"success\": False}\n",
    "  # ensure an image was properly uploaded to our endpoint\n",
    "  if request.method == \"POST\":\n",
    "      Age, Sex, ChestPainType, RestingBP, Cholesterol, FastingBS, RestingECG, MaxHR, ExerciseAngina, Oldpeak, ST_Slope = \"\", \"\", \"\", \"\", \"\", \"\", \"\", \"\", \"\", \"\", \"\" \n",
    "      request_json = request.get_json()\n",
    "\n",
    "  if request_json[\"Age\"]:\n",
    "      Age = request_json['Age']\n",
    "      print(Age)\n",
    "\n",
    "  if request_json[\"Sex\"]:\n",
    "      Sex = request_json['Sex']\n",
    "      print(Sex)\n",
    "         \n",
    "  if request_json[\"ChestPainType\"]:\n",
    "      ChestPainType = request_json['ChestPainType']\n",
    "\n",
    "  if request_json[\"RestingBP\"]:\n",
    "      RestingBP = request_json['RestingBP']\n",
    "\n",
    "  if request_json[\"Cholesterol\"]:\n",
    "      Cholesterol = request_json['Cholesterol']\n",
    "\n",
    "  if request_json[\"FastingBS\"]:\n",
    "      FastingBS = request_json['FastingBS']\n",
    "\n",
    "  if request_json[\"RestingECG\"]:\n",
    "      RestingECG = request_json['RestingECG']\n",
    "\n",
    "  if request_json[\"MaxHR\"]:\n",
    "      MaxHR = request_json['MaxHR']\n",
    "\n",
    "  if request_json[\"ExerciseAngina\"]:\n",
    "      ExerciseAngina = request_json['ExerciseAngina']\n",
    "\n",
    "  if request_json[\"Oldpeak\"]:\n",
    "      Oldpeak = request_json['Oldpeak']\n",
    "\n",
    "  if request_json[\"ST_Slope\"]:\n",
    "      ST_Slope = request_json['ST_Slope']\n",
    "\n",
    "\n",
    "  # print(Age, Sex)  \n",
    "  preds = pipeline.predict_proba(pd.DataFrame({\"Age\": [Age],\n",
    "                                            \"Sex\": [Sex],\n",
    "                                            \"ChestPainType\": [ChestPainType],\n",
    "                                            \"RestingBP\": [RestingBP],\n",
    "                                            \"Cholesterol\": [Cholesterol],\n",
    "                                            \"FastingBS\": [FastingBS],\n",
    "                                            \"RestingECG\": [RestingECG],\n",
    "                                            \"MaxHR\": [MaxHR],\n",
    "                                            \"ExerciseAngina\": [ExerciseAngina],\n",
    "                                            \"Oldpeak\": [Oldpeak],\n",
    "                                            \"ST_Slope\": [ST_Slope]}))\n",
    "  data[\"predictions\"] = preds[:, 1][0]\n",
    "  # data[\"description\"] = description\n",
    "\t# indicate that the request was a success\n",
    "  data[\"success\"] = True\n",
    "\n",
    "\t# return the data dictionary as a JSON response\n",
    "  return jsonify(data)\n",
    "\n",
    "\n",
    "if __name__ == '__main__':\n",
    "    app.run()"
   ]
  }
 ],
 "metadata": {
  "colab": {
   "collapsed_sections": [],
   "name": "flask_serv.ipynb",
   "provenance": []
  },
  "kernelspec": {
   "display_name": "Python 3 (ipykernel)",
   "language": "python",
   "name": "python3"
  },
  "language_info": {
   "codemirror_mode": {
    "name": "ipython",
    "version": 3
   },
   "file_extension": ".py",
   "mimetype": "text/x-python",
   "name": "python",
   "nbconvert_exporter": "python",
   "pygments_lexer": "ipython3",
   "version": "3.9.1"
  }
 },
 "nbformat": 4,
 "nbformat_minor": 1
}
