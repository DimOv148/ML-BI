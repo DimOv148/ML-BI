{
 "cells": [
  {
   "cell_type": "markdown",
   "id": "eb0224bc",
   "metadata": {},
   "source": [
    "### Урок3. Связь бизнес-показателей и DS-метрик"
   ]
  },
  {
   "cell_type": "markdown",
   "id": "3661fed0",
   "metadata": {},
   "source": [
    "#### Домашнее задание"
   ]
  },
  {
   "cell_type": "markdown",
   "id": "f4f698a1",
   "metadata": {},
   "source": [
    "1. обучить несколько разных моделей на наборе данных ССЗ (train_case2.csv): логрег, бустинг, лес и т.д - на ваш выбор 2-3 варианта\n",
    "2. при обучении моделей обязательно использовать кроссвалидацию\n",
    "3. вывести сравнение полученных моделей по основным метрикам классификации: pr/rec/auc/f_score (можно в виде таблицы, где строки - модели, а столбцы - метрики)\n",
    "4. сделать выводы о том, какая модель справилась с задачей лучше других\n",
    "5. (опциональный вопрос) Найти порог классификации по деньгам (Стоимость лечения 15000 р, если сделали тест и начали лечить вовремя. Стоимость лечения 20000, если упустили и начали лечить когда уже проявились все симптомы. Стоимость теста 1400 р)"
   ]
  },
  {
   "cell_type": "code",
   "execution_count": 33,
   "id": "dd2de9d4",
   "metadata": {},
   "outputs": [],
   "source": [
    "import numpy as np\n",
    "import pandas as pd\n",
    "from sklearn.ensemble import RandomForestClassifier\n",
    "from sklearn.feature_extraction.text import TfidfVectorizer\n",
    "from sklearn.linear_model import LogisticRegression\n",
    "from sklearn.ensemble import GradientBoostingClassifier\n",
    "from sklearn.metrics import precision_recall_curve, roc_curve, roc_auc_score, confusion_matrix\n",
    "\n",
    "from sklearn.model_selection import cross_val_score, train_test_split\n",
    "from scipy.sparse import hstack\n",
    "from sklearn.pipeline import Pipeline, make_pipeline\n",
    "from sklearn.base import BaseEstimator, TransformerMixin\n",
    "\n",
    "import seaborn as sns\n",
    "import itertools\n",
    "import matplotlib.pyplot as plt\n"
   ]
  },
  {
   "cell_type": "code",
   "execution_count": 57,
   "id": "411b37e1",
   "metadata": {},
   "outputs": [
    {
     "data": {
      "text/html": [
       "<div>\n",
       "<style scoped>\n",
       "    .dataframe tbody tr th:only-of-type {\n",
       "        vertical-align: middle;\n",
       "    }\n",
       "\n",
       "    .dataframe tbody tr th {\n",
       "        vertical-align: top;\n",
       "    }\n",
       "\n",
       "    .dataframe thead th {\n",
       "        text-align: right;\n",
       "    }\n",
       "</style>\n",
       "<table border=\"1\" class=\"dataframe\">\n",
       "  <thead>\n",
       "    <tr style=\"text-align: right;\">\n",
       "      <th></th>\n",
       "      <th>id</th>\n",
       "      <th>age</th>\n",
       "      <th>gender</th>\n",
       "      <th>height</th>\n",
       "      <th>weight</th>\n",
       "      <th>ap_hi</th>\n",
       "      <th>ap_lo</th>\n",
       "      <th>cholesterol</th>\n",
       "      <th>gluc</th>\n",
       "      <th>smoke</th>\n",
       "      <th>alco</th>\n",
       "      <th>active</th>\n",
       "      <th>cardio</th>\n",
       "    </tr>\n",
       "  </thead>\n",
       "  <tbody>\n",
       "    <tr>\n",
       "      <th>0</th>\n",
       "      <td>0</td>\n",
       "      <td>18393</td>\n",
       "      <td>2</td>\n",
       "      <td>168</td>\n",
       "      <td>62.0</td>\n",
       "      <td>110</td>\n",
       "      <td>80</td>\n",
       "      <td>1</td>\n",
       "      <td>1</td>\n",
       "      <td>0</td>\n",
       "      <td>0</td>\n",
       "      <td>1</td>\n",
       "      <td>0</td>\n",
       "    </tr>\n",
       "    <tr>\n",
       "      <th>1</th>\n",
       "      <td>1</td>\n",
       "      <td>20228</td>\n",
       "      <td>1</td>\n",
       "      <td>156</td>\n",
       "      <td>85.0</td>\n",
       "      <td>140</td>\n",
       "      <td>90</td>\n",
       "      <td>3</td>\n",
       "      <td>1</td>\n",
       "      <td>0</td>\n",
       "      <td>0</td>\n",
       "      <td>1</td>\n",
       "      <td>1</td>\n",
       "    </tr>\n",
       "    <tr>\n",
       "      <th>2</th>\n",
       "      <td>2</td>\n",
       "      <td>18857</td>\n",
       "      <td>1</td>\n",
       "      <td>165</td>\n",
       "      <td>64.0</td>\n",
       "      <td>130</td>\n",
       "      <td>70</td>\n",
       "      <td>3</td>\n",
       "      <td>1</td>\n",
       "      <td>0</td>\n",
       "      <td>0</td>\n",
       "      <td>0</td>\n",
       "      <td>1</td>\n",
       "    </tr>\n",
       "  </tbody>\n",
       "</table>\n",
       "</div>"
      ],
      "text/plain": [
       "   id    age  gender  height  weight  ap_hi  ap_lo  cholesterol  gluc  smoke  \\\n",
       "0   0  18393       2     168    62.0    110     80            1     1      0   \n",
       "1   1  20228       1     156    85.0    140     90            3     1      0   \n",
       "2   2  18857       1     165    64.0    130     70            3     1      0   \n",
       "\n",
       "   alco  active  cardio  \n",
       "0     0       1       0  \n",
       "1     0       1       1  \n",
       "2     0       0       1  "
      ]
     },
     "execution_count": 57,
     "metadata": {},
     "output_type": "execute_result"
    }
   ],
   "source": [
    "df = pd.read_csv('train_case2.csv', ';')\n",
    "df.head(3)"
   ]
  },
  {
   "cell_type": "code",
   "execution_count": 58,
   "id": "d2e5e76c",
   "metadata": {},
   "outputs": [],
   "source": [
    "#разделим данные на train/test\n",
    "X_train, X_test, y_train, y_test = train_test_split(df.drop('cardio', 1), \n",
    "                                                    df['cardio'], random_state=0)"
   ]
  },
  {
   "cell_type": "code",
   "execution_count": 59,
   "id": "0d2e6f88",
   "metadata": {},
   "outputs": [
    {
     "data": {
      "text/plain": [
       "((52500, 12), (52500,))"
      ]
     },
     "execution_count": 59,
     "metadata": {},
     "output_type": "execute_result"
    }
   ],
   "source": [
    "X_train.shape, y_train.shape"
   ]
  },
  {
   "cell_type": "code",
   "execution_count": 60,
   "id": "eb3ff1f7",
   "metadata": {},
   "outputs": [
    {
     "data": {
      "text/plain": [
       "((17500, 12), (17500,))"
      ]
     },
     "execution_count": 60,
     "metadata": {},
     "output_type": "execute_result"
    }
   ],
   "source": [
    "X_test.shape, y_test.shape"
   ]
  },
  {
   "cell_type": "code",
   "execution_count": 61,
   "id": "7eb58473",
   "metadata": {},
   "outputs": [],
   "source": [
    "class ColumnSelector(BaseEstimator, TransformerMixin):\n",
    "    \"\"\"\n",
    "    Transformer to select a single column from the data frame to perform additional transformations on\n",
    "    \"\"\"\n",
    "    def __init__(self, key):\n",
    "        self.key = key\n",
    "\n",
    "    def fit(self, X, y=None):\n",
    "        return self\n",
    "\n",
    "    def transform(self, X):\n",
    "        return X[self.key]\n",
    "    \n",
    "class NumberSelector(BaseEstimator, TransformerMixin):\n",
    "    \"\"\"\n",
    "    Transformer to select a single column from the data frame to perform additional transformations on\n",
    "    Use on numeric columns in the data\n",
    "    \"\"\"\n",
    "    def __init__(self, key):\n",
    "        self.key = key\n",
    "\n",
    "    def fit(self, X, y=None):\n",
    "        return self\n",
    "\n",
    "    def transform(self, X):\n",
    "        return X[[self.key]]\n",
    "    \n",
    "class OHEEncoder(BaseEstimator, TransformerMixin):\n",
    "    def __init__(self, key):\n",
    "        self.key = key\n",
    "        self.columns = []\n",
    "\n",
    "    def fit(self, X, y=None):\n",
    "        self.columns = [col for col in pd.get_dummies(X, prefix=self.key).columns]\n",
    "        return self\n",
    "\n",
    "    def transform(self, X):\n",
    "        X = pd.get_dummies(X, prefix=self.key)\n",
    "        test_columns = [col for col in X.columns]\n",
    "        for col_ in test_columns:\n",
    "            if col_ not in self.columns:\n",
    "                X[col_] = 0\n",
    "        return X[self.columns]\n",
    "\n",
    "\n",
    "from sklearn.preprocessing import StandardScaler\n",
    "\n",
    "\n",
    "continuos_cols = ['age', 'height', 'weight', 'ap_hi', 'ap_lo']\n",
    "cat_cols = ['gender', 'cholesterol']\n",
    "base_cols = ['gluc', 'smoke', 'alco', 'active']\n",
    "\n",
    "continuos_transformers = []\n",
    "cat_transformers = []\n",
    "base_transformers = []\n",
    "\n",
    "for cont_col in continuos_cols:\n",
    "    transfomer =  Pipeline([\n",
    "                ('selector', NumberSelector(key=cont_col)),\n",
    "                ('standard', StandardScaler())\n",
    "            ])\n",
    "    continuos_transformers.append((cont_col, transfomer))\n",
    "    \n",
    "for cat_col in cat_cols:\n",
    "    cat_transformer = Pipeline([\n",
    "                ('selector', ColumnSelector(key=cat_col)),\n",
    "                ('ohe', OHEEncoder(key=cat_col))\n",
    "            ])\n",
    "    cat_transformers.append((cat_col, cat_transformer))\n",
    "    \n",
    "for base_col in base_cols:\n",
    "    base_transformer = Pipeline([\n",
    "                ('selector', NumberSelector(key=base_col))\n",
    "            ])\n",
    "    base_transformers.append((base_col, base_transformer))"
   ]
  },
  {
   "cell_type": "code",
   "execution_count": 73,
   "id": "cc6c3feb",
   "metadata": {},
   "outputs": [],
   "source": [
    "def plot_confusion_matrix(cm, classes,\n",
    "                          normalize=False,\n",
    "                          title='Confusion matrix',\n",
    "                          cmap=plt.cm.Blues):\n",
    "    \"\"\"\n",
    "    This function prints and plots the confusion matrix.\n",
    "    Normalization can be applied by setting `normalize=True`.\n",
    "    \"\"\"\n",
    "    plt.imshow(cm, interpolation='nearest', cmap=cmap)\n",
    "    plt.title(title)\n",
    "    plt.colorbar()\n",
    "    tick_marks = np.arange(len(classes))\n",
    "    plt.xticks(tick_marks, classes, rotation=45)\n",
    "    plt.yticks(tick_marks, classes)\n",
    "\n",
    "    if normalize:\n",
    "        cm = cm.astype('float') / cm.sum(axis=1)[:, np.newaxis]\n",
    "        print(\"Normalized confusion matrix\")\n",
    "    else:\n",
    "        print('Confusion matrix, without normalization')\n",
    "\n",
    "    print(cm)\n",
    "\n",
    "    thresh = cm.max() / 2.\n",
    "    for i, j in itertools.product(range(cm.shape[0]), range(cm.shape[1])):\n",
    "        plt.text(j, i, cm[i, j],\n",
    "                 horizontalalignment=\"center\",\n",
    "                 color=\"white\" if cm[i, j] > thresh else \"black\")\n",
    "\n",
    "    plt.tight_layout()\n",
    "    plt.ylabel('True label')\n",
    "    plt.xlabel('Predicted label')"
   ]
  },
  {
   "cell_type": "code",
   "execution_count": 62,
   "id": "c382647f",
   "metadata": {},
   "outputs": [
    {
     "data": {
      "text/plain": [
       "array([[-1.73391771,  0.6873301 ,  0.74843904, ...,  1.        ,\n",
       "         0.        ,  1.        ],\n",
       "       [-1.67343538,  0.07758923, -0.29640123, ...,  0.        ,\n",
       "         0.        ,  1.        ],\n",
       "       [ 0.13738132,  1.17512278, -0.15708919, ...,  0.        ,\n",
       "         0.        ,  0.        ],\n",
       "       ...,\n",
       "       [ 1.17775864,  1.17512278, -0.15708919, ...,  0.        ,\n",
       "         0.        ,  1.        ],\n",
       "       [-0.47190715, -1.38578883,  0.74843904, ...,  0.        ,\n",
       "         0.        ,  1.        ],\n",
       "       [ 0.38174619,  0.56538192, -0.08743318, ...,  0.        ,\n",
       "         0.        ,  1.        ]])"
      ]
     },
     "execution_count": 62,
     "metadata": {},
     "output_type": "execute_result"
    }
   ],
   "source": [
    "from sklearn.pipeline import FeatureUnion\n",
    "\n",
    "feats = FeatureUnion(continuos_transformers+cat_transformers+base_transformers)\n",
    "feature_processing = Pipeline([('feats', feats)])\n",
    "\n",
    "feature_processing.fit_transform(X_train)"
   ]
  },
  {
   "cell_type": "code",
   "execution_count": 63,
   "id": "f964ee3c",
   "metadata": {},
   "outputs": [],
   "source": [
    "b=1"
   ]
  },
  {
   "cell_type": "code",
   "execution_count": 64,
   "id": "22c7147e",
   "metadata": {},
   "outputs": [
    {
     "name": "stdout",
     "output_type": "stream",
     "text": [
      "CV score is 0.7844374123135694+-0.005286474572634387\n"
     ]
    }
   ],
   "source": [
    "classifier_lr = Pipeline([\n",
    "    ('features',feats),\n",
    "    ('classifier', LogisticRegression(C = 0.1,random_state = 42)),\n",
    "])\n",
    "\n",
    "\n",
    "#запустим кросс-валидацию\n",
    "cv_scores = cross_val_score(classifier_lr, X_train, y_train, cv=6, scoring='roc_auc')\n",
    "cv_score = np.mean(cv_scores)\n",
    "cv_score_std = np.std(cv_scores)\n",
    "print('CV score is {}+-{}'.format(cv_score, cv_score_std))\n",
    "\n",
    "#обучим пайплайн на всем тренировочном датасете\n",
    "classifier_lr.fit(X_train, y_train)\n",
    "y_score_lr = classifier_lr.predict_proba(X_test)[:, 1]"
   ]
  },
  {
   "cell_type": "code",
   "execution_count": 65,
   "id": "3e913ef1",
   "metadata": {},
   "outputs": [
    {
     "name": "stdout",
     "output_type": "stream",
     "text": [
      "Best Threshold=0.389193, F-Score=0.729, Precision=0.645, Recall=0.839\n"
     ]
    }
   ],
   "source": [
    "precision_lr, recall_lr, thresholds_lr = precision_recall_curve(y_test.values, y_score_lr)\n",
    "fscore_lr = (1+b**2)*(precision_lr * recall_lr) / (b**2*precision_lr + recall_lr)\n",
    "# locate the index of the largest f score\n",
    "ix = np.argmax(fscore_lr)\n",
    "print('Best Threshold=%f, F-Score=%.3f, Precision=%.3f, Recall=%.3f' % (thresholds_lr[ix], \n",
    "                                                                        fscore_lr[ix],\n",
    "                                                                        precision_lr[ix],\n",
    "                                                                        recall_lr[ix]))\n",
    "\n",
    "Logistic_Regression = thresholds_lr[ix], fscore_lr[ix], precision_lr[ix], recall_lr[ix], cv_score"
   ]
  },
  {
   "cell_type": "code",
   "execution_count": 66,
   "id": "44aa4a71",
   "metadata": {},
   "outputs": [
    {
     "name": "stdout",
     "output_type": "stream",
     "text": [
      "CV score is 0.7924503583338689+-0.0038264177235431125\n"
     ]
    }
   ],
   "source": [
    "classifier_rf = Pipeline([\n",
    "    ('features',feats),\n",
    "    ('classifier', RandomForestClassifier(max_depth=20, random_state=0)),\n",
    "])\n",
    "\n",
    "\n",
    "#запустим кросс-валидацию\n",
    "cv_scores = cross_val_score(classifier_rf, X_train, y_train, cv=6, scoring='roc_auc')\n",
    "cv_score = np.mean(cv_scores)\n",
    "cv_score_std = np.std(cv_scores)\n",
    "print('CV score is {}+-{}'.format(cv_score, cv_score_std))\n",
    "\n",
    "#обучим пайплайн на всем тренировочном датасете\n",
    "classifier_rf.fit(X_train, y_train)\n",
    "y_score_rf = classifier_rf.predict_proba(X_test)[:, 1]"
   ]
  },
  {
   "cell_type": "code",
   "execution_count": 67,
   "id": "03428ead",
   "metadata": {},
   "outputs": [
    {
     "name": "stdout",
     "output_type": "stream",
     "text": [
      "Best Threshold=0.360568, F-Score=0.734, Precision=0.667, Recall=0.816\n"
     ]
    }
   ],
   "source": [
    "precision_rf, recall_rf, thresholds_rf = precision_recall_curve(y_test.values, y_score_rf)\n",
    "fscore_rf = (1+b**2)*(precision_rf * recall_rf) / (b**2*precision_rf + recall_rf)\n",
    "# locate the index of the largest f score\n",
    "ix = np.argmax(fscore_rf)\n",
    "print('Best Threshold=%f, F-Score=%.3f, Precision=%.3f, Recall=%.3f' % (thresholds_rf[ix], \n",
    "                                                                        fscore_rf[ix],\n",
    "                                                                        precision_rf[ix],\n",
    "                                                                        recall_rf[ix]))\n",
    "Random_Forest_Classifier = thresholds_rf[ix], fscore_rf[ix], precision_rf[ix], recall_rf[ix], cv_score "
   ]
  },
  {
   "cell_type": "code",
   "execution_count": 68,
   "id": "d87f24fc",
   "metadata": {},
   "outputs": [
    {
     "name": "stdout",
     "output_type": "stream",
     "text": [
      "CV score is 0.7972241039551431+-0.003839865561087465\n"
     ]
    }
   ],
   "source": [
    "classifier_gb = Pipeline([\n",
    "    ('features',feats),\n",
    "    ('classifier', GradientBoostingClassifier(n_estimators=100, learning_rate=1.0, max_depth=1, random_state=0)),\n",
    "])\n",
    "\n",
    "\n",
    "#запустим кросс-валидацию\n",
    "cv_scores = cross_val_score(classifier_gb, X_train, y_train, cv=6, scoring='roc_auc')\n",
    "cv_score = np.mean(cv_scores)\n",
    "cv_score_std = np.std(cv_scores)\n",
    "print('CV score is {}+-{}'.format(cv_score, cv_score_std))\n",
    "\n",
    "#обучим пайплайн на всем тренировочном датасете\n",
    "classifier_gb.fit(X_train, y_train)\n",
    "y_score_gb = classifier_gb.predict_proba(X_test)[:, 1]"
   ]
  },
  {
   "cell_type": "code",
   "execution_count": 69,
   "id": "10bf1fb8",
   "metadata": {},
   "outputs": [
    {
     "name": "stdout",
     "output_type": "stream",
     "text": [
      "Best Threshold=0.358156, F-Score=0.739, Precision=0.679, Recall=0.810\n"
     ]
    }
   ],
   "source": [
    "precision_gb, recall_gb, thresholds_gb = precision_recall_curve(y_test.values, y_score_gb)\n",
    "fscore_gb = (1+b**2)*(precision_gb * recall_gb) / (b**2*precision_gb + recall_gb)\n",
    "# locate the index of the largest f score\n",
    "ix = np.argmax(fscore_gb)\n",
    "print('Best Threshold=%f, F-Score=%.3f, Precision=%.3f, Recall=%.3f' % (thresholds_gb[ix], \n",
    "                                                                        fscore_gb[ix],\n",
    "                                                                        precision_gb[ix],\n",
    "                                                                        recall_gb[ix]))\n",
    "Gradient_Boosting_Classifier = thresholds_gb[ix], fscore_gb[ix], precision_gb[ix], recall_gb[ix], cv_score"
   ]
  },
  {
   "cell_type": "code",
   "execution_count": 70,
   "id": "eb3bb3d5",
   "metadata": {},
   "outputs": [
    {
     "data": {
      "image/png": "[encoded data removed]",
      "text/plain": [
       "<Figure size 720x576 with 1 Axes>"
      ]
     },
     "metadata": {},
     "output_type": "display_data"
    }
   ],
   "source": [
    "sns.set(font_scale=1.5)\n",
    "sns.set_color_codes(\"muted\")\n",
    "\n",
    "plt.figure(figsize=(10, 8))\n",
    "fpr1, tpr1, thresholds_1 = roc_curve(y_test, y_score_lr, pos_label=1)\n",
    "fpr2, tpr2, thresholds_2 = roc_curve(y_test, y_score_rf, pos_label=1)\n",
    "fpr3, tpr3, thresholds_3 = roc_curve(y_test, y_score_gb, pos_label=1)\n",
    "lw = 2\n",
    "\n",
    "plt.plot(fpr1, tpr1, lw=lw, label='LogisticRegression')\n",
    "plt.plot(fpr2, tpr2, lw=lw, label='RandomForestClassifier')\n",
    "plt.plot(fpr3, tpr3, lw=lw, label='GradientBoostingClassifier')\n",
    "\n",
    "plt.plot([0, 1], [0, 1])\n",
    "plt.xlim([0.0, 1.0])\n",
    "plt.ylim([0.0, 1.05])\n",
    "plt.xlabel('False Positive Rate')\n",
    "plt.ylabel('True Positive Rate')\n",
    "plt.title('ROC curve')\n",
    "plt.legend()\n",
    "plt.savefig(\"ROC.png\")\n",
    "plt.show()"
   ]
  },
  {
   "cell_type": "code",
   "execution_count": 71,
   "id": "d1173963",
   "metadata": {},
   "outputs": [
    {
     "data": {
      "text/html": [
       "<div>\n",
       "<style scoped>\n",
       "    .dataframe tbody tr th:only-of-type {\n",
       "        vertical-align: middle;\n",
       "    }\n",
       "\n",
       "    .dataframe tbody tr th {\n",
       "        vertical-align: top;\n",
       "    }\n",
       "\n",
       "    .dataframe thead th {\n",
       "        text-align: right;\n",
       "    }\n",
       "</style>\n",
       "<table border=\"1\" class=\"dataframe\">\n",
       "  <thead>\n",
       "    <tr style=\"text-align: right;\">\n",
       "      <th></th>\n",
       "      <th>metrics</th>\n",
       "      <th>LogisticRegression</th>\n",
       "      <th>RandomForestClassifier</th>\n",
       "      <th>GradientBoostingClassifier</th>\n",
       "    </tr>\n",
       "  </thead>\n",
       "  <tbody>\n",
       "    <tr>\n",
       "      <th>0</th>\n",
       "      <td>thresholds</td>\n",
       "      <td>0.389193</td>\n",
       "      <td>0.360568</td>\n",
       "      <td>0.358156</td>\n",
       "    </tr>\n",
       "    <tr>\n",
       "      <th>1</th>\n",
       "      <td>fscore</td>\n",
       "      <td>0.728938</td>\n",
       "      <td>0.734252</td>\n",
       "      <td>0.738500</td>\n",
       "    </tr>\n",
       "    <tr>\n",
       "      <th>2</th>\n",
       "      <td>precision</td>\n",
       "      <td>0.644507</td>\n",
       "      <td>0.667075</td>\n",
       "      <td>0.678503</td>\n",
       "    </tr>\n",
       "    <tr>\n",
       "      <th>3</th>\n",
       "      <td>recall</td>\n",
       "      <td>0.838825</td>\n",
       "      <td>0.816475</td>\n",
       "      <td>0.810138</td>\n",
       "    </tr>\n",
       "    <tr>\n",
       "      <th>4</th>\n",
       "      <td>cv_score</td>\n",
       "      <td>0.784437</td>\n",
       "      <td>0.792450</td>\n",
       "      <td>0.797224</td>\n",
       "    </tr>\n",
       "  </tbody>\n",
       "</table>\n",
       "</div>"
      ],
      "text/plain": [
       "      metrics  LogisticRegression  RandomForestClassifier  \\\n",
       "0  thresholds            0.389193                0.360568   \n",
       "1      fscore            0.728938                0.734252   \n",
       "2   precision            0.644507                0.667075   \n",
       "3      recall            0.838825                0.816475   \n",
       "4    cv_score            0.784437                0.792450   \n",
       "\n",
       "   GradientBoostingClassifier  \n",
       "0                    0.358156  \n",
       "1                    0.738500  \n",
       "2                    0.678503  \n",
       "3                    0.810138  \n",
       "4                    0.797224  "
      ]
     },
     "execution_count": 71,
     "metadata": {},
     "output_type": "execute_result"
    }
   ],
   "source": [
    "df1= pd.DataFrame({'metrics': ['thresholds', 'fscore', 'precision', 'recall', 'cv_score'],\n",
    "                   'LogisticRegression': Logistic_Regression, 'RandomForestClassifier': Random_Forest_Classifier, 'GradientBoostingClassifier': Gradient_Boosting_Classifier})\n",
    "df1\n",
    "\n"
   ]
  },
  {
   "cell_type": "markdown",
   "id": "b5f5eaa0",
   "metadata": {},
   "source": [
    "Лучший результат показывает модель $GradientBoostingClassifier$"
   ]
  },
  {
   "cell_type": "code",
   "execution_count": 74,
   "id": "f0b295ad",
   "metadata": {},
   "outputs": [
    {
     "name": "stdout",
     "output_type": "stream",
     "text": [
      "Confusion matrix, without normalization\n",
      "[[5488 3332]\n",
      " [1650 7030]]\n"
     ]
    },
    {
     "data": {
      "image/png": "[encoded data removed]",
      "text/plain": [
       "<Figure size 720x576 with 2 Axes>"
      ]
     },
     "metadata": {},
     "output_type": "display_data"
    }
   ],
   "source": [
    "#мы уже нашли ранее \"оптимальный\" порог, когда максимизировали f_score\n",
    "font = {'size' : 15}\n",
    "\n",
    "plt.rc('font', **font)\n",
    "\n",
    "business_threshold = 1  # подберем порог для улучшения бизнесс показателя\n",
    "\n",
    "cnf_matrix = confusion_matrix(y_test, y_score_gb>thresholds_gb[ix]*business_threshold)\n",
    "plt.figure(figsize=(10, 8))\n",
    "plot_confusion_matrix(cnf_matrix, classes=['cardio_0', 'cardio_1'],\n",
    "                      title='Confusion matrix')\n",
    "plt.savefig(\"conf_matrix.png\")\n",
    "plt.show()"
   ]
  },
  {
   "cell_type": "code",
   "execution_count": 75,
   "id": "910c4680",
   "metadata": {},
   "outputs": [
    {
     "data": {
      "text/plain": [
       "(0.8099078341013825, 0.37777777777777777, 0.6222222222222222)"
      ]
     },
     "execution_count": 75,
     "metadata": {},
     "output_type": "execute_result"
    }
   ],
   "source": [
    "TN = cnf_matrix[0][0]\n",
    "FN = cnf_matrix[1][0]\n",
    "TP = cnf_matrix[1][1]\n",
    "FP = cnf_matrix[0][1]\n",
    "\n",
    "TPR = TP/(TP+FN)\n",
    "FPR = FP/(FP+TN)\n",
    "TNR = TN/(FP+TN)\n",
    "TPR, FPR, TNR\n"
   ]
  },
  {
   "cell_type": "markdown",
   "id": "e41c53ba",
   "metadata": {},
   "source": [
    "#### Пусть:\n",
    " - стоимость лечения 15000 р, если сделали тест и начали лечить вовремя\n",
    " - стоимость лечения 20000, если упустили и начали лечить когда уже проявились все симптомы \n",
    " - стоимость теста 1400 р\n",
    " \n",
    " \n",
    " \n",
    " - лишних тестов сделали FP = cnf_matrix[0][1]\n",
    " - пропустили больных FN = cnf_matrix[1][0]\n",
    " - правильных тестов сделали TP = cnf_matrix[1][1]\n",
    "\n",
    "Оценим расходы, если не делать тест и ждать симптомов:"
   ]
  },
  {
   "cell_type": "code",
   "execution_count": 84,
   "id": "a68f702e",
   "metadata": {},
   "outputs": [],
   "source": [
    "def business_threshold_calibrate(y_test, y_score, thresholds,rubl_to_test = 100, rubl_to_early_treatment = 100, rubl_to_late_treatment = 1000):\n",
    "    business_threshold = 0\n",
    "    r1_r2_ = 0\n",
    "    r1_r3_ = 0\n",
    "    r2_r3_ = 0\n",
    "    rubl_1_ = - 10000000 \n",
    "    rubl_all_test_ = - 10000000 \n",
    "    rubl_ML_ = - 10000000 \n",
    "\n",
    "    r2 = []\n",
    "    n = 20\n",
    "    for opt_buisness_tr in np.linspace(0,1,n).tolist():\n",
    "        # подберем порог для улучшения бизнесс показателя\n",
    "\n",
    "        cnf_matrix = confusion_matrix(y_test, y_score > ( opt_buisness_tr))\n",
    "        #print(cnf_matrix )\n",
    "        rubl_1 = ((cnf_matrix[1][1]+cnf_matrix[1][0])) * rubl_to_late_treatment\n",
    "\n",
    "        rubl_all_test = np.sum(cnf_matrix) * rubl_to_test + ((cnf_matrix[1][0]+cnf_matrix[1][1])) * rubl_to_early_treatment\n",
    "\n",
    "        rubl_ML = ((cnf_matrix[1][1]+cnf_matrix[0][1])) * rubl_to_test + np.sum(cnf_matrix[1][0]) * rubl_to_late_treatment + (cnf_matrix[1][1]) * rubl_to_early_treatment\n",
    "       \n",
    "        r2_r3 = rubl_all_test - rubl_ML \n",
    "        \n",
    "        r1_r2 = rubl_1 - rubl_all_test\n",
    "        r1_r3 = rubl_1 - rubl_ML\n",
    "        #print(opt_buisness_tr, r2_r3)\n",
    "        if (r2_r3_ < r2_r3):\n",
    "            \n",
    "            business_threshold = opt_buisness_tr\n",
    "            r1_r2_ = r1_r2\n",
    "            r1_r3_ = r1_r3\n",
    "            r2_r3_ = r2_r3\n",
    "            rubl_1_ = rubl_1\n",
    "            rubl_all_test_ = rubl_all_test\n",
    "            rubl_ML_ = rubl_ML\n",
    "            \n",
    "        r2.append(r2_r3)   \n",
    "            \n",
    "    \n",
    "    print('расходы, если не делать тест и ждать симптомов:',rubl_1_)\n",
    "    print('расходы, если делать тест всем и лечить группу большых:',rubl_all_test_)\n",
    "    print('расходы, Расходы если использовать ML:',rubl_ML_)\n",
    "    print(' Расходы при решении не делать тесты - расходы с МL :',r1_r3_ )\n",
    "    print(' Расходы при решении не делать тесты - расходы ссделать тесты всем  :',r1_r2_ )\n",
    "    print(' Расходы сделать тесты всем - решение делать тесты ML  :',r2_r3_ )\n",
    "    plt.plot(np.linspace(0,1,n),r2)\n",
    "    plt.show()\n",
    "    return business_threshold"
   ]
  },
  {
   "cell_type": "code",
   "execution_count": 86,
   "id": "dfbde991",
   "metadata": {},
   "outputs": [
    {
     "name": "stdout",
     "output_type": "stream",
     "text": [
      "расходы, если не делать тест и ждать симптомов: 173600000\n",
      "расходы, если делать тест всем и лечить группу большых: 154700000\n",
      "расходы, Расходы если использовать ML: 152581800\n",
      " Расходы при решении не делать тесты - расходы с МL : 21018200\n",
      " Расходы при решении не делать тесты - расходы ссделать тесты всем  : 18900000\n",
      " Расходы сделать тесты всем - решение делать тесты ML  : 2118200\n"
     ]
    },
    {
     "data": {
      "image/png": "[encoded data removed]",
      "text/plain": [
       "<Figure size 432x288 with 1 Axes>"
      ]
     },
     "metadata": {},
     "output_type": "display_data"
    },
    {
     "name": "stdout",
     "output_type": "stream",
     "text": [
      "уровень порога по бизнес метрике 0.2631578947368421\n",
      "уровень порога по f1 метрике 0.3581560129533394\n"
     ]
    }
   ],
   "source": [
    "BUisnes_tr = business_threshold_calibrate(y_test, y_score_gb, \n",
    "                                          thresholds_gb[ix] ,\n",
    "                                          rubl_to_test = 1400, \n",
    "                                          rubl_to_early_treatment = 15000, \n",
    "                                          rubl_to_late_treatment = 20000)\n",
    "print('уровень порога по бизнес метрике',BUisnes_tr)\n",
    "print('уровень порога по f1 метрике',thresholds_gb[ix])"
   ]
  },
  {
   "cell_type": "markdown",
   "id": "e0e2e847",
   "metadata": {},
   "source": [
    "#### 6. (опциональный вопрос)\n",
    "какая метрика (precision_recall_curve или roc_auc_curve) больше подходит в случае сильного дисбаланса классов? (когда объектов одного из классов намного больше чем другого). \n",
    "\n",
    "p.s.В вопросе проще разобраться, если вспомнить оси на графике roc auc curve и рассмотреть такой пример:\n",
    "\n",
    "Имеется 100000 объектов, из которых только 100 - класс \"1\" (99900 - класс \"0\", соответственно). \n",
    "Допустим, у нас две модели:\n",
    "\n",
    "- первая помечает 100 объектов как класс 1, но TP = 90\n",
    "- вторая помечает 1000 объектов как класс 1, но TP такой же - 90\n",
    "\n",
    "Какая модель лучше и почему? И что позволяет легче сделать вывод - roc_auc_curve или precision_recall_curve?"
   ]
  },
  {
   "cell_type": "markdown",
   "id": "7063dcda",
   "metadata": {},
   "source": [
    "- первая помечает 100 объектов как класс 1, но TP = 90\\\n",
    "Confusion matrix\n",
    "\n",
    "TP &nbsp;90  &nbsp;&nbsp;   FP&nbsp;  10\\\n",
    "FN &nbsp;10  &nbsp;&nbsp;   TN &nbsp; 99890"
   ]
  },
  {
   "cell_type": "markdown",
   "id": "8b7887c2",
   "metadata": {},
   "source": [
    "- вторая помечает 1000 объектов как класс 1, но TP такой же - 90\\\n",
    "Confusion matrix \n",
    "\n",
    "TP &nbsp;90  &nbsp;&nbsp;   FP&nbsp;  910\\\n",
    "FN &nbsp;10  &nbsp;&nbsp;   TN &nbsp; 98990"
   ]
  },
  {
   "cell_type": "markdown",
   "id": "225622bb",
   "metadata": {},
   "source": [
    "$ROC-AUC$"
   ]
  },
  {
   "cell_type": "markdown",
   "id": "4dccf2a3",
   "metadata": {},
   "source": [
    "1 модель"
   ]
  },
  {
   "cell_type": "markdown",
   "id": "72d2f25e",
   "metadata": {},
   "source": [
    "$$TPR = \\frac{TP}{TP+FN} = \\frac{90}{90+10} = 0,9$$"
   ]
  },
  {
   "cell_type": "markdown",
   "id": "dd9cffb9",
   "metadata": {},
   "source": [
    "$$FPR = \\frac{FP}{FP+TN} = \\frac{10}{10+99890} = 0,0001$$"
   ]
  },
  {
   "cell_type": "markdown",
   "id": "d3fe1c54",
   "metadata": {},
   "source": [
    "2 модель"
   ]
  },
  {
   "cell_type": "markdown",
   "id": "e81fb9fc",
   "metadata": {},
   "source": [
    "$$TPR = \\frac{TP}{TP+FN} = \\frac{90}{90+10} = 0,9$$"
   ]
  },
  {
   "cell_type": "markdown",
   "id": "63f31567",
   "metadata": {},
   "source": [
    "$$FPR = \\frac{FP}{FP+TN} = \\frac{910}{910+98990} = 0,009$$"
   ]
  },
  {
   "cell_type": "markdown",
   "id": "c7cae07d",
   "metadata": {},
   "source": [
    "Судя по $FPR$ стоит выбрать 1 модель, т.к. $FPR$ меньше. "
   ]
  },
  {
   "cell_type": "markdown",
   "id": "b84fe0bb",
   "metadata": {},
   "source": [
    "Но разница в $FPR$ между двумя моделями составляет всего 0,0089. "
   ]
  },
  {
   "cell_type": "markdown",
   "id": "5239d774",
   "metadata": {},
   "source": [
    "$ROC-AUC$ измеряет долю $FP$ относительно $TN$ и может показывать не совсем адекватную картину при сильном дисбалансе класссов на разных моделях."
   ]
  },
  {
   "cell_type": "code",
   "execution_count": null,
   "id": "48ea51b9",
   "metadata": {},
   "outputs": [],
   "source": []
  },
  {
   "cell_type": "markdown",
   "id": "629e5293",
   "metadata": {},
   "source": [
    "$PR$"
   ]
  },
  {
   "cell_type": "markdown",
   "id": "1d17076b",
   "metadata": {},
   "source": [
    "1 модель"
   ]
  },
  {
   "cell_type": "markdown",
   "id": "1fa25023",
   "metadata": {},
   "source": [
    "$$precision = \\frac{TP}{TP+FP} = \\frac{90}{90+10} = 0.9$$"
   ]
  },
  {
   "cell_type": "markdown",
   "id": "a99212c3",
   "metadata": {},
   "source": [
    "$$recall = \\frac{TP}{TP+FN} = \\frac{90}{90+10} = 0.9$$"
   ]
  },
  {
   "cell_type": "markdown",
   "id": "3054afcc",
   "metadata": {},
   "source": [
    "2 модель"
   ]
  },
  {
   "cell_type": "markdown",
   "id": "249de196",
   "metadata": {},
   "source": [
    "$$precision = \\frac{TP}{TP+FP} = \\frac{90}{90+910} = 0.09$$"
   ]
  },
  {
   "cell_type": "markdown",
   "id": "f9acee1a",
   "metadata": {},
   "source": [
    "$$recall = \\frac{TP}{TP+FN} = \\frac{90}{90+10} = 0.9$$"
   ]
  },
  {
   "cell_type": "markdown",
   "id": "e6e3f420",
   "metadata": {},
   "source": [
    "Разница в $precission$ между двумя моделями уже значительно больше и составляет 0,81"
   ]
  },
  {
   "cell_type": "markdown",
   "id": "d968bc67",
   "metadata": {},
   "source": [
    "Таким образом для сравнения работы моделей пр сильно разбалансированных классах лучше использовать $Precission-Recall$."
   ]
  },
  {
   "cell_type": "code",
   "execution_count": null,
   "id": "3a89711f",
   "metadata": {},
   "outputs": [],
   "source": []
  }
 ],
 "metadata": {
  "kernelspec": {
   "display_name": "Python 3 (ipykernel)",
   "language": "python",
   "name": "python3"
  },
  "language_info": {
   "codemirror_mode": {
    "name": "ipython",
    "version": 3
   },
   "file_extension": ".py",
   "mimetype": "text/x-python",
   "name": "python",
   "nbconvert_exporter": "python",
   "pygments_lexer": "ipython3",
   "version": "3.9.1"
  }
 },
 "nbformat": 4,
 "nbformat_minor": 5
}
